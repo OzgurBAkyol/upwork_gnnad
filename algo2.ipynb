{
 "cells": [
  {
   "cell_type": "code",
   "execution_count": null,
   "id": "initial_id",
   "metadata": {
    "collapsed": true
   },
   "outputs": [],
   "source": [
    "def pertubate(self):\n",
    "    epsilon_min = self.config['perturbation']['epsilon_min']\n",
    "    epsilon_max = self.config['perturbation']['epsilon_max']\n",
    "    epsilon_steps = self.config['perturbation']['steps']\n",
    "\n",
    "    epsilon_values = np.linspace(epsilon_min, epsilon_max, epsilon_steps) # aralık oluştur\n",
    "\n",
    "    accus, mafs = list(), list()  # her epsilon için\n",
    "\n",
    "    # döngü\n",
    "    for epsilon in tqdm.tqdm(epsilon_values):\n",
    "        prediction_ = []\n",
    "        real_ = []\n",
    "\n",
    "        # testte döngü\n",
    "        for data, label in self.test:\n",
    "            data = data.cuda() if tr.cuda.is_available() else data\n",
    "            label = label.cuda() if tr.cuda.is_available() else label\n",
    "            real_.append(label)\n",
    "\n",
    "            if epsilon != 0:\n",
    "                data.requires_grad = True\n",
    "                prediction = self.net(data)\n",
    "                loss = self.loss_function(prediction, label)\n",
    "                loss.backward()\n",
    "                perturbation = epsilon * data.grad.data.sign()\n",
    "                x_adv = tr.clamp(data + perturbation, -1, 1)\n",
    "            else:\n",
    "                x_adv = data\n",
    "\n",
    "            prediction = self.net(x_adv)\n",
    "            prediction_.append(prediction.detach().cpu())\n",
    "\n",
    "        prediction_ = tr.cat(prediction_, 0)\n",
    "        real_ = tr.cat(real_, 0)\n",
    "        prediction_ = tr.argmax(prediction_, -1)\n",
    "        accu = self.accu_(prediction_, real_)\n",
    "        maf1 = self.maf1(predicted=prediction_, real=real_)\n",
    "        accus.append(accu)\n",
    "        mafs.append(maf1)\n",
    "\n",
    "    print(\"Doğruluk Skorları:\", accus)\n",
    "    print(\"Macro F1 Skorları:\", mafs)"
   ]
  },
  {
   "metadata": {},
   "cell_type": "code",
   "outputs": [],
   "execution_count": null,
   "source": [
    "epsilon_values = np.linspace(\n",
    "    self.config['perturbation']['epsilon_min'],\n",
    "    self.config['perturbation']['epsilon_max'],\n",
    "    self.config['perturbation']['steps']\n",
    ")\n",
    "\n",
    "for epsilon in tqdm.tqdm(epsilon_values):\n",
    "    prediction_ = []\n",
    "    real_ = []"
   ],
   "id": "7ee7664222b3c1aa"
  },
  {
   "metadata": {},
   "cell_type": "code",
   "outputs": [],
   "execution_count": null,
   "source": [
    "def to_device(tensor):\n",
    "    return tensor.cuda() if tr.cuda.is_available() else tensor\n",
    "\n",
    "for data, label in self.test:\n",
    "    data = to_device(data)\n",
    "    label = to_device(label)\n",
    "    real_.append(label)"
   ],
   "id": "661d9114e973442c"
  },
  {
   "metadata": {},
   "cell_type": "code",
   "outputs": [],
   "execution_count": null,
   "source": [
    "def apply_perturbation(data, label, epsilon, model, loss_function):\n",
    "    if epsilon != 0:\n",
    "        data.requires_grad = True\n",
    "        prediction = model(data)\n",
    "        loss = loss_function(prediction, label)\n",
    "        loss.backward()\n",
    "\n",
    "        perturbation = epsilon * data.grad.data.sign()\n",
    "\n",
    "        x_adv = tr.clamp(data + perturbation, -1, 1)\n",
    "    else:\n",
    "        x_adv = data\n",
    "\n",
    "    return x_adv"
   ],
   "id": "c5d7d248d317716"
  },
  {
   "metadata": {},
   "cell_type": "code",
   "outputs": [],
   "execution_count": null,
   "source": [
    "prediction = make_prediction(self.net, x_adv)\n",
    "prediction_.append(prediction)"
   ],
   "id": "5ce0f0c3002f5145"
  },
  {
   "metadata": {},
   "cell_type": "code",
   "outputs": [],
   "execution_count": null,
   "source": [
    "prediction_ = tr.cat(prediction_, 0)\n",
    "real_ = tr.cat(real_, 0)\n",
    "\n",
    "accu, maf1 = calculate_metrics(prediction_, real_, self.accu_, self.maf1)\n",
    "\n",
    "accus.append(accu)\n",
    "mafs.append(maf1)"
   ],
   "id": "1e92b613f2486262"
  },
  {
   "metadata": {},
   "cell_type": "code",
   "outputs": [],
   "execution_count": null,
   "source": [
    "import numpy as np\n",
    "import tqdm\n",
    "import torch as tr\n",
    "\n",
    "def generate_epsilon_values(config):\n",
    "    return np.linspace(\n",
    "        config['perturbation']['epsilon_min'],\n",
    "        config['perturbation']['epsilon_max'],\n",
    "        config['perturbation']['steps']\n",
    "    )\n",
    "\n",
    "def process_data(data, label):\n",
    "    data = data.cuda() if tr.cuda.is_available() else data\n",
    "    label = label.cuda() if tr.cuda.is_available() else label\n",
    "    return data, label\n",
    "\n",
    "def apply_perturbation(data, label, epsilon, model, loss_function):\n",
    "    if epsilon != 0:\n",
    "        data.requires_grad = True\n",
    "        prediction = model(data)\n",
    "        loss = loss_function(prediction, label)\n",
    "        loss.backward()\n",
    "        perturbation = epsilon * data.grad.data.sign()\n",
    "        x_adv = tr.clamp(data + perturbation, -1, 1)\n",
    "    else:\n",
    "        x_adv = data\n",
    "    return x_adv\n",
    "\n",
    "def calculate_metrics(predictions, labels, accu_fn, maf1_fn):\n",
    "    predictions = tr.argmax(predictions, -1)\n",
    "    accu = accu_fn(predictions, labels)\n",
    "    maf1 = maf1_fn(predicted=predictions, real=labels)\n",
    "    return accu, maf1\n",
    "\n",
    "def pertubate(self):\n",
    "    accus, mafs = list(), list()\n",
    "    epsilon_values = generate_epsilon_values(self.config)\n",
    "\n",
    "    for epsilon in tqdm.tqdm(epsilon_values):\n",
    "        prediction_ = []\n",
    "        real_ = []\n",
    "\n",
    "        for data, label in self.test:\n",
    "            data, label = process_data(data, label)\n",
    "            real_.append(label)\n",
    "\n",
    "            x_adv = apply_perturbation(data, label, epsilon, self.net, self.loss_function)\n",
    "            prediction = self.net(x_adv)\n",
    "            prediction_.append(prediction.detach().cpu())\n",
    "\n",
    "        prediction_ = tr.cat(prediction_, 0)\n",
    "        real_ = tr.cat(real_, 0)\n",
    "\n",
    "        accu, maf1 = calculate_metrics(prediction_, real_, self.accu_, self.maf1)\n",
    "        accus.append(accu)\n",
    "        mafs.append(maf1)\n",
    "\n",
    "    print(\"Accuracy scores :\", accus)\n",
    "    print(\"macro f1 scores:\", mafs)"
   ],
   "id": "edbf8d5f9a96af02"
  },
  {
   "metadata": {},
   "cell_type": "code",
   "outputs": [],
   "execution_count": null,
   "source": "",
   "id": "329f97886a9eaee0"
  },
  {
   "metadata": {},
   "cell_type": "code",
   "outputs": [],
   "execution_count": null,
   "source": "",
   "id": "888114fc536d8b9e"
  },
  {
   "metadata": {},
   "cell_type": "code",
   "outputs": [],
   "execution_count": null,
   "source": "",
   "id": "ee02b58777a989de"
  },
  {
   "metadata": {},
   "cell_type": "code",
   "outputs": [],
   "execution_count": null,
   "source": "",
   "id": "b3f366e6207f9cf7"
  },
  {
   "metadata": {},
   "cell_type": "code",
   "outputs": [],
   "execution_count": null,
   "source": "",
   "id": "92a17bcd9190fe3b"
  },
  {
   "metadata": {},
   "cell_type": "code",
   "outputs": [],
   "execution_count": null,
   "source": "",
   "id": "b01474802d7ac823"
  }
 ],
 "metadata": {
  "kernelspec": {
   "display_name": "Python 3",
   "language": "python",
   "name": "python3"
  },
  "language_info": {
   "codemirror_mode": {
    "name": "ipython",
    "version": 2
   },
   "file_extension": ".py",
   "mimetype": "text/x-python",
   "name": "python",
   "nbconvert_exporter": "python",
   "pygments_lexer": "ipython2",
   "version": "2.7.6"
  }
 },
 "nbformat": 4,
 "nbformat_minor": 5
}
