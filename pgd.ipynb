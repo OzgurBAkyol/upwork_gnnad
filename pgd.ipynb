{
 "cells": [
  {
   "metadata": {
    "ExecuteTime": {
     "end_time": "2024-10-21T20:01:21.110783Z",
     "start_time": "2024-10-21T20:01:21.001608Z"
    }
   },
   "cell_type": "code",
   "source": [
    "import os\n",
    "import pandas as pd\n",
    "from yaml import full_load\n",
    "\n",
    "# Veri klasörü\n",
    "data_dir = 'last_data'  \n",
    "all_files = os.listdir(data_dir)\n",
    "dataframes = []\n",
    "\n",
    "# Her CSV dosyasını okuyup bir DataFrame listesine ekliyoruz\n",
    "for file in all_files:\n",
    "    if file.endswith('.csv'):\n",
    "        df = pd.read_csv(os.path.join(data_dir, file))\n",
    "        # 'timestamp' kolonunu çıkarıyoruz\n",
    "        if 'timestamp' in df.columns:\n",
    "            df = df.drop(columns=['timestamp'])\n",
    "        dataframes.append(df)\n",
    "\n",
    "# Tüm DataFrame'leri birleştiriyoruz\n",
    "full_data = pd.concat(dataframes, ignore_index=True)\n",
    "\n",
    "# Verinin ilk birkaç satırını gösterelim\n",
    "print(full_data.head())"
   ],
   "id": "8bba6092d14cfe34",
   "outputs": [
    {
     "name": "stdout",
     "output_type": "stream",
     "text": [
      "   pm25_avg_60  windspeed  winddir\n",
      "0     3.132667       14.2    329.0\n",
      "1     3.130000        9.2    329.0\n",
      "2     3.424667        5.5    342.0\n",
      "3     3.349500        0.3      3.0\n",
      "4     3.379000        0.2      5.0\n"
     ]
    }
   ],
   "execution_count": 60
  },
  {
   "metadata": {
    "ExecuteTime": {
     "end_time": "2024-10-21T20:01:22.605675Z",
     "start_time": "2024-10-21T20:01:22.590423Z"
    }
   },
   "cell_type": "code",
   "source": "full_data.info()",
   "id": "1e457b45e6a6d958",
   "outputs": [
    {
     "name": "stdout",
     "output_type": "stream",
     "text": [
      "<class 'pandas.core.frame.DataFrame'>\n",
      "RangeIndex: 120130 entries, 0 to 120129\n",
      "Data columns (total 3 columns):\n",
      " #   Column       Non-Null Count   Dtype  \n",
      "---  ------       --------------   -----  \n",
      " 0   pm25_avg_60  120130 non-null  float64\n",
      " 1   windspeed    120089 non-null  float64\n",
      " 2   winddir      120089 non-null  float64\n",
      "dtypes: float64(3)\n",
      "memory usage: 2.7 MB\n"
     ]
    }
   ],
   "execution_count": 61
  },
  {
   "metadata": {
    "ExecuteTime": {
     "end_time": "2024-10-21T20:01:25.872735Z",
     "start_time": "2024-10-21T20:01:25.863483Z"
    }
   },
   "cell_type": "code",
   "source": "full_data = full_data.dropna()  # Tüm NaN içeren satırları kaldır",
   "id": "b00228f6e334d0e",
   "outputs": [],
   "execution_count": 62
  },
  {
   "metadata": {
    "ExecuteTime": {
     "end_time": "2024-10-21T20:01:50.165183Z",
     "start_time": "2024-10-21T20:01:50.137825Z"
    }
   },
   "cell_type": "code",
   "source": "full_data.info()",
   "id": "dcb994a7fadbac93",
   "outputs": [
    {
     "name": "stdout",
     "output_type": "stream",
     "text": [
      "<class 'pandas.core.frame.DataFrame'>\n",
      "Int64Index: 120089 entries, 0 to 120129\n",
      "Data columns (total 3 columns):\n",
      " #   Column       Non-Null Count   Dtype  \n",
      "---  ------       --------------   -----  \n",
      " 0   pm25_avg_60  120089 non-null  float64\n",
      " 1   windspeed    120089 non-null  float64\n",
      " 2   winddir      120089 non-null  float64\n",
      "dtypes: float64(3)\n",
      "memory usage: 3.7 MB\n"
     ]
    }
   ],
   "execution_count": 63
  },
  {
   "metadata": {
    "ExecuteTime": {
     "end_time": "2024-10-21T20:02:48.142948Z",
     "start_time": "2024-10-21T20:02:48.124218Z"
    }
   },
   "cell_type": "code",
   "source": "X_train, X_test = train_test_split(full_data, test_size=0.2, random_state=42)",
   "id": "716115e8e4ef475",
   "outputs": [],
   "execution_count": 64
  },
  {
   "metadata": {
    "ExecuteTime": {
     "end_time": "2024-10-21T20:02:51.917618Z",
     "start_time": "2024-10-21T20:02:51.905894Z"
    }
   },
   "cell_type": "code",
   "source": [
    "scaler = StandardScaler()\n",
    "X_train = scaler.fit_transform(X_train)\n",
    "X_test = scaler.transform(X_test)\n"
   ],
   "id": "3a85bdbe45382f07",
   "outputs": [],
   "execution_count": 65
  },
  {
   "metadata": {
    "ExecuteTime": {
     "end_time": "2024-10-21T20:02:54.896837Z",
     "start_time": "2024-10-21T20:02:54.881969Z"
    }
   },
   "cell_type": "code",
   "source": [
    "class GraPhy(tf.keras.Model):\n",
    "    def __init__(self, hidden_dim=512):\n",
    "        super(GraPhy, self).__init__()\n",
    "        self.layers_list = [tf.keras.layers.Dense(hidden_dim, activation='relu') for _ in range(4)]\n",
    "        self.output_layer = tf.keras.layers.Dense(X_train.shape[1], activation='sigmoid')  # Giriş boyutuyla eşleşen çıkış\n",
    "\n",
    "    def call(self, inputs):\n",
    "        x = inputs\n",
    "        for layer in self.layers_list:\n",
    "            x = layer(x)\n",
    "        return self.output_layer(x)"
   ],
   "id": "36800fd794e6c97f",
   "outputs": [],
   "execution_count": 66
  },
  {
   "metadata": {
    "ExecuteTime": {
     "end_time": "2024-10-21T20:13:34.464935Z",
     "start_time": "2024-10-21T20:02:55.788204Z"
    }
   },
   "cell_type": "code",
   "source": [
    "model = GraPhy()\n",
    "model.compile(optimizer=tf.keras.optimizers.Adam(learning_rate=0.0001,\n",
    "                                                 beta_1=0.9, \n",
    "                                                 beta_2=0.999),\n",
    "              loss='mean_squared_error')  # Giriş verisi ile çıkış arasındaki farkı minimize et\n",
    "\n",
    "# Modeli eğitiyoruz\n",
    "model.fit(X_train, X_train, batch_size=32, epochs=50)"
   ],
   "id": "19b67d285c32862d",
   "outputs": [
    {
     "name": "stdout",
     "output_type": "stream",
     "text": [
      "Epoch 1/50\n",
      "\u001B[1m3003/3003\u001B[0m \u001B[32m━━━━━━━━━━━━━━━━━━━━\u001B[0m\u001B[37m\u001B[0m \u001B[1m11s\u001B[0m 4ms/step - loss: 0.6370\n",
      "Epoch 2/50\n",
      "\u001B[1m3003/3003\u001B[0m \u001B[32m━━━━━━━━━━━━━━━━━━━━\u001B[0m\u001B[37m\u001B[0m \u001B[1m10s\u001B[0m 3ms/step - loss: 0.5950\n",
      "Epoch 3/50\n",
      "\u001B[1m3003/3003\u001B[0m \u001B[32m━━━━━━━━━━━━━━━━━━━━\u001B[0m\u001B[37m\u001B[0m \u001B[1m10s\u001B[0m 3ms/step - loss: 0.5751\n",
      "Epoch 4/50\n",
      "\u001B[1m3003/3003\u001B[0m \u001B[32m━━━━━━━━━━━━━━━━━━━━\u001B[0m\u001B[37m\u001B[0m \u001B[1m11s\u001B[0m 3ms/step - loss: 0.5884\n",
      "Epoch 5/50\n",
      "\u001B[1m3003/3003\u001B[0m \u001B[32m━━━━━━━━━━━━━━━━━━━━\u001B[0m\u001B[37m\u001B[0m \u001B[1m11s\u001B[0m 4ms/step - loss: 0.5806\n",
      "Epoch 6/50\n",
      "\u001B[1m3003/3003\u001B[0m \u001B[32m━━━━━━━━━━━━━━━━━━━━\u001B[0m\u001B[37m\u001B[0m \u001B[1m10s\u001B[0m 3ms/step - loss: 0.5875\n",
      "Epoch 7/50\n",
      "\u001B[1m3003/3003\u001B[0m \u001B[32m━━━━━━━━━━━━━━━━━━━━\u001B[0m\u001B[37m\u001B[0m \u001B[1m10s\u001B[0m 3ms/step - loss: 0.5835\n",
      "Epoch 8/50\n",
      "\u001B[1m3003/3003\u001B[0m \u001B[32m━━━━━━━━━━━━━━━━━━━━\u001B[0m\u001B[37m\u001B[0m \u001B[1m10s\u001B[0m 3ms/step - loss: 0.5906\n",
      "Epoch 9/50\n",
      "\u001B[1m3003/3003\u001B[0m \u001B[32m━━━━━━━━━━━━━━━━━━━━\u001B[0m\u001B[37m\u001B[0m \u001B[1m12s\u001B[0m 4ms/step - loss: 0.5927\n",
      "Epoch 10/50\n",
      "\u001B[1m3003/3003\u001B[0m \u001B[32m━━━━━━━━━━━━━━━━━━━━\u001B[0m\u001B[37m\u001B[0m \u001B[1m11s\u001B[0m 4ms/step - loss: 0.5793\n",
      "Epoch 11/50\n",
      "\u001B[1m3003/3003\u001B[0m \u001B[32m━━━━━━━━━━━━━━━━━━━━\u001B[0m\u001B[37m\u001B[0m \u001B[1m11s\u001B[0m 4ms/step - loss: 0.5948\n",
      "Epoch 12/50\n",
      "\u001B[1m3003/3003\u001B[0m \u001B[32m━━━━━━━━━━━━━━━━━━━━\u001B[0m\u001B[37m\u001B[0m \u001B[1m11s\u001B[0m 4ms/step - loss: 0.5978\n",
      "Epoch 13/50\n",
      "\u001B[1m3003/3003\u001B[0m \u001B[32m━━━━━━━━━━━━━━━━━━━━\u001B[0m\u001B[37m\u001B[0m \u001B[1m11s\u001B[0m 4ms/step - loss: 0.5991\n",
      "Epoch 14/50\n",
      "\u001B[1m3003/3003\u001B[0m \u001B[32m━━━━━━━━━━━━━━━━━━━━\u001B[0m\u001B[37m\u001B[0m \u001B[1m10s\u001B[0m 3ms/step - loss: 0.5927\n",
      "Epoch 15/50\n",
      "\u001B[1m3003/3003\u001B[0m \u001B[32m━━━━━━━━━━━━━━━━━━━━\u001B[0m\u001B[37m\u001B[0m \u001B[1m12s\u001B[0m 4ms/step - loss: 0.5919\n",
      "Epoch 16/50\n",
      "\u001B[1m3003/3003\u001B[0m \u001B[32m━━━━━━━━━━━━━━━━━━━━\u001B[0m\u001B[37m\u001B[0m \u001B[1m12s\u001B[0m 4ms/step - loss: 0.5888\n",
      "Epoch 17/50\n",
      "\u001B[1m3003/3003\u001B[0m \u001B[32m━━━━━━━━━━━━━━━━━━━━\u001B[0m\u001B[37m\u001B[0m \u001B[1m12s\u001B[0m 4ms/step - loss: 0.5893\n",
      "Epoch 18/50\n",
      "\u001B[1m3003/3003\u001B[0m \u001B[32m━━━━━━━━━━━━━━━━━━━━\u001B[0m\u001B[37m\u001B[0m \u001B[1m11s\u001B[0m 4ms/step - loss: 0.5991\n",
      "Epoch 19/50\n",
      "\u001B[1m3003/3003\u001B[0m \u001B[32m━━━━━━━━━━━━━━━━━━━━\u001B[0m\u001B[37m\u001B[0m \u001B[1m11s\u001B[0m 4ms/step - loss: 0.5882\n",
      "Epoch 20/50\n",
      "\u001B[1m3003/3003\u001B[0m \u001B[32m━━━━━━━━━━━━━━━━━━━━\u001B[0m\u001B[37m\u001B[0m \u001B[1m12s\u001B[0m 4ms/step - loss: 0.5859\n",
      "Epoch 21/50\n",
      "\u001B[1m3003/3003\u001B[0m \u001B[32m━━━━━━━━━━━━━━━━━━━━\u001B[0m\u001B[37m\u001B[0m \u001B[1m12s\u001B[0m 4ms/step - loss: 0.5935\n",
      "Epoch 22/50\n",
      "\u001B[1m3003/3003\u001B[0m \u001B[32m━━━━━━━━━━━━━━━━━━━━\u001B[0m\u001B[37m\u001B[0m \u001B[1m12s\u001B[0m 4ms/step - loss: 0.5885\n",
      "Epoch 23/50\n",
      "\u001B[1m3003/3003\u001B[0m \u001B[32m━━━━━━━━━━━━━━━━━━━━\u001B[0m\u001B[37m\u001B[0m \u001B[1m11s\u001B[0m 4ms/step - loss: 0.5935\n",
      "Epoch 24/50\n",
      "\u001B[1m3003/3003\u001B[0m \u001B[32m━━━━━━━━━━━━━━━━━━━━\u001B[0m\u001B[37m\u001B[0m \u001B[1m11s\u001B[0m 4ms/step - loss: 0.5960\n",
      "Epoch 25/50\n",
      "\u001B[1m3003/3003\u001B[0m \u001B[32m━━━━━━━━━━━━━━━━━━━━\u001B[0m\u001B[37m\u001B[0m \u001B[1m11s\u001B[0m 4ms/step - loss: 0.5820\n",
      "Epoch 26/50\n",
      "\u001B[1m3003/3003\u001B[0m \u001B[32m━━━━━━━━━━━━━━━━━━━━\u001B[0m\u001B[37m\u001B[0m \u001B[1m12s\u001B[0m 4ms/step - loss: 0.5901\n",
      "Epoch 27/50\n",
      "\u001B[1m3003/3003\u001B[0m \u001B[32m━━━━━━━━━━━━━━━━━━━━\u001B[0m\u001B[37m\u001B[0m \u001B[1m13s\u001B[0m 4ms/step - loss: 0.5775\n",
      "Epoch 28/50\n",
      "\u001B[1m3003/3003\u001B[0m \u001B[32m━━━━━━━━━━━━━━━━━━━━\u001B[0m\u001B[37m\u001B[0m \u001B[1m13s\u001B[0m 4ms/step - loss: 0.5979\n",
      "Epoch 29/50\n",
      "\u001B[1m3003/3003\u001B[0m \u001B[32m━━━━━━━━━━━━━━━━━━━━\u001B[0m\u001B[37m\u001B[0m \u001B[1m15s\u001B[0m 5ms/step - loss: 0.5915\n",
      "Epoch 30/50\n",
      "\u001B[1m3003/3003\u001B[0m \u001B[32m━━━━━━━━━━━━━━━━━━━━\u001B[0m\u001B[37m\u001B[0m \u001B[1m16s\u001B[0m 5ms/step - loss: 0.6064\n",
      "Epoch 31/50\n",
      "\u001B[1m3003/3003\u001B[0m \u001B[32m━━━━━━━━━━━━━━━━━━━━\u001B[0m\u001B[37m\u001B[0m \u001B[1m17s\u001B[0m 6ms/step - loss: 0.5956\n",
      "Epoch 32/50\n",
      "\u001B[1m3003/3003\u001B[0m \u001B[32m━━━━━━━━━━━━━━━━━━━━\u001B[0m\u001B[37m\u001B[0m \u001B[1m14s\u001B[0m 5ms/step - loss: 0.5927\n",
      "Epoch 33/50\n",
      "\u001B[1m3003/3003\u001B[0m \u001B[32m━━━━━━━━━━━━━━━━━━━━\u001B[0m\u001B[37m\u001B[0m \u001B[1m15s\u001B[0m 5ms/step - loss: 0.5836\n",
      "Epoch 34/50\n",
      "\u001B[1m3003/3003\u001B[0m \u001B[32m━━━━━━━━━━━━━━━━━━━━\u001B[0m\u001B[37m\u001B[0m \u001B[1m17s\u001B[0m 6ms/step - loss: 0.5856\n",
      "Epoch 35/50\n",
      "\u001B[1m3003/3003\u001B[0m \u001B[32m━━━━━━━━━━━━━━━━━━━━\u001B[0m\u001B[37m\u001B[0m \u001B[1m21s\u001B[0m 7ms/step - loss: 0.5887\n",
      "Epoch 36/50\n",
      "\u001B[1m3003/3003\u001B[0m \u001B[32m━━━━━━━━━━━━━━━━━━━━\u001B[0m\u001B[37m\u001B[0m \u001B[1m17s\u001B[0m 6ms/step - loss: 0.5912\n",
      "Epoch 37/50\n",
      "\u001B[1m3003/3003\u001B[0m \u001B[32m━━━━━━━━━━━━━━━━━━━━\u001B[0m\u001B[37m\u001B[0m \u001B[1m17s\u001B[0m 6ms/step - loss: 0.5933\n",
      "Epoch 38/50\n",
      "\u001B[1m3003/3003\u001B[0m \u001B[32m━━━━━━━━━━━━━━━━━━━━\u001B[0m\u001B[37m\u001B[0m \u001B[1m15s\u001B[0m 5ms/step - loss: 0.5884\n",
      "Epoch 39/50\n",
      "\u001B[1m3003/3003\u001B[0m \u001B[32m━━━━━━━━━━━━━━━━━━━━\u001B[0m\u001B[37m\u001B[0m \u001B[1m14s\u001B[0m 5ms/step - loss: 0.5883\n",
      "Epoch 40/50\n",
      "\u001B[1m3003/3003\u001B[0m \u001B[32m━━━━━━━━━━━━━━━━━━━━\u001B[0m\u001B[37m\u001B[0m \u001B[1m18s\u001B[0m 6ms/step - loss: 0.5938\n",
      "Epoch 41/50\n",
      "\u001B[1m3003/3003\u001B[0m \u001B[32m━━━━━━━━━━━━━━━━━━━━\u001B[0m\u001B[37m\u001B[0m \u001B[1m19s\u001B[0m 6ms/step - loss: 0.5944\n",
      "Epoch 42/50\n",
      "\u001B[1m3003/3003\u001B[0m \u001B[32m━━━━━━━━━━━━━━━━━━━━\u001B[0m\u001B[37m\u001B[0m \u001B[1m15s\u001B[0m 5ms/step - loss: 0.5912\n",
      "Epoch 43/50\n",
      "\u001B[1m3003/3003\u001B[0m \u001B[32m━━━━━━━━━━━━━━━━━━━━\u001B[0m\u001B[37m\u001B[0m \u001B[1m13s\u001B[0m 4ms/step - loss: 0.5913\n",
      "Epoch 44/50\n",
      "\u001B[1m3003/3003\u001B[0m \u001B[32m━━━━━━━━━━━━━━━━━━━━\u001B[0m\u001B[37m\u001B[0m \u001B[1m12s\u001B[0m 4ms/step - loss: 0.5939\n",
      "Epoch 45/50\n",
      "\u001B[1m3003/3003\u001B[0m \u001B[32m━━━━━━━━━━━━━━━━━━━━\u001B[0m\u001B[37m\u001B[0m \u001B[1m11s\u001B[0m 4ms/step - loss: 0.5860\n",
      "Epoch 46/50\n",
      "\u001B[1m3003/3003\u001B[0m \u001B[32m━━━━━━━━━━━━━━━━━━━━\u001B[0m\u001B[37m\u001B[0m \u001B[1m11s\u001B[0m 4ms/step - loss: 0.5905\n",
      "Epoch 47/50\n",
      "\u001B[1m3003/3003\u001B[0m \u001B[32m━━━━━━━━━━━━━━━━━━━━\u001B[0m\u001B[37m\u001B[0m \u001B[1m12s\u001B[0m 4ms/step - loss: 0.5884\n",
      "Epoch 48/50\n",
      "\u001B[1m3003/3003\u001B[0m \u001B[32m━━━━━━━━━━━━━━━━━━━━\u001B[0m\u001B[37m\u001B[0m \u001B[1m12s\u001B[0m 4ms/step - loss: 0.5836\n",
      "Epoch 49/50\n",
      "\u001B[1m3003/3003\u001B[0m \u001B[32m━━━━━━━━━━━━━━━━━━━━\u001B[0m\u001B[37m\u001B[0m \u001B[1m11s\u001B[0m 4ms/step - loss: 0.5892\n",
      "Epoch 50/50\n",
      "\u001B[1m3003/3003\u001B[0m \u001B[32m━━━━━━━━━━━━━━━━━━━━\u001B[0m\u001B[37m\u001B[0m \u001B[1m11s\u001B[0m 4ms/step - loss: 0.5866\n"
     ]
    },
    {
     "data": {
      "text/plain": [
       "<keras.src.callbacks.history.History at 0x3157bad70>"
      ]
     },
     "execution_count": 67,
     "metadata": {},
     "output_type": "execute_result"
    }
   ],
   "execution_count": 67
  },
  {
   "metadata": {
    "ExecuteTime": {
     "end_time": "2024-10-21T21:20:38.270004Z",
     "start_time": "2024-10-21T21:20:38.258843Z"
    }
   },
   "cell_type": "code",
   "source": [
    "# PGD ile anomali oluşturma fonksiyonu\n",
    "def generate_anomalies_pgd(model, data, n_anomalies, epsilon, alpha, num_steps):\n",
    "    anomalies = []\n",
    "    \n",
    "    for _ in range(n_anomalies):\n",
    "        # Rastgele bir gözlem seç\n",
    "        original_sample = data[np.random.randint(len(data))]\n",
    "        anomaly = tf.convert_to_tensor(original_sample.copy())  # Tensor'a dönüştür\n",
    "\n",
    "        # Anomali oluşturma süreci\n",
    "        for _ in range(num_steps):\n",
    "            with tf.GradientTape() as tape:\n",
    "                tape.watch(anomaly)  # Anomali tensor'ını takip et\n",
    "                prediction = model(tf.expand_dims(anomaly, axis=0))\n",
    "                # Kayıp hesapla (orijinal örneği hedef olarak al)\n",
    "                loss = tf.keras.losses.mean_squared_error(original_sample, prediction)\n",
    "            gradients = tape.gradient(loss, anomaly)\n",
    "            # PGD güncellemesi\n",
    "            anomaly = anomaly + alpha * tf.sign(gradients)\n",
    "            # Epsilon'a göre sınırlama\n",
    "            anomaly = tf.clip_by_value(anomaly, original_sample - epsilon, original_sample + epsilon)\n",
    "\n",
    "        anomalies.append(anomaly.numpy())\n",
    "    \n",
    "    return np.array(anomalies)"
   ],
   "id": "753979097c21ff1d",
   "outputs": [],
   "execution_count": 74
  },
  {
   "metadata": {
    "ExecuteTime": {
     "end_time": "2024-10-21T21:20:39.130201Z",
     "start_time": "2024-10-21T21:20:39.063174Z"
    }
   },
   "cell_type": "code",
   "source": [
    "# Test verileri ile anomali oluşturma\n",
    "n_anomalies = len(X_test)  # Test verisindeki gözlem sayısı kadar anomali üret\n",
    "anomalies = generate_anomalies_pgd(model, X_test, n_anomalies, epsilon=0.1, alpha=0.01, num_steps=10)"
   ],
   "id": "1497568b16b01590",
   "outputs": [
    {
     "ename": "AttributeError",
     "evalue": "module 'keras._tf_keras.keras.losses' has no attribute 'mean_squared_error'",
     "output_type": "error",
     "traceback": [
      "\u001B[0;31m---------------------------------------------------------------------------\u001B[0m",
      "\u001B[0;31mAttributeError\u001B[0m                            Traceback (most recent call last)",
      "\u001B[0;32m/var/folders/vr/11d0bknx2ms1fxq4p99sr8tc0000gn/T/ipykernel_44210/4190644709.py\u001B[0m in \u001B[0;36m<module>\u001B[0;34m\u001B[0m\n\u001B[1;32m      1\u001B[0m \u001B[0;31m# Test verileri ile anomali oluşturma\u001B[0m\u001B[0;34m\u001B[0m\u001B[0;34m\u001B[0m\u001B[0m\n\u001B[1;32m      2\u001B[0m \u001B[0mn_anomalies\u001B[0m \u001B[0;34m=\u001B[0m \u001B[0mlen\u001B[0m\u001B[0;34m(\u001B[0m\u001B[0mX_test\u001B[0m\u001B[0;34m)\u001B[0m  \u001B[0;31m# Test verisindeki gözlem sayısı kadar anomali üret\u001B[0m\u001B[0;34m\u001B[0m\u001B[0;34m\u001B[0m\u001B[0m\n\u001B[0;32m----> 3\u001B[0;31m \u001B[0manomalies\u001B[0m \u001B[0;34m=\u001B[0m \u001B[0mgenerate_anomalies_pgd\u001B[0m\u001B[0;34m(\u001B[0m\u001B[0mmodel\u001B[0m\u001B[0;34m,\u001B[0m \u001B[0mX_test\u001B[0m\u001B[0;34m,\u001B[0m \u001B[0mn_anomalies\u001B[0m\u001B[0;34m,\u001B[0m \u001B[0mepsilon\u001B[0m\u001B[0;34m=\u001B[0m\u001B[0;36m0.1\u001B[0m\u001B[0;34m,\u001B[0m \u001B[0malpha\u001B[0m\u001B[0;34m=\u001B[0m\u001B[0;36m0.01\u001B[0m\u001B[0;34m,\u001B[0m \u001B[0mnum_steps\u001B[0m\u001B[0;34m=\u001B[0m\u001B[0;36m10\u001B[0m\u001B[0;34m)\u001B[0m\u001B[0;34m\u001B[0m\u001B[0;34m\u001B[0m\u001B[0m\n\u001B[0m",
      "\u001B[0;32m/var/folders/vr/11d0bknx2ms1fxq4p99sr8tc0000gn/T/ipykernel_44210/4234994134.py\u001B[0m in \u001B[0;36mgenerate_anomalies_pgd\u001B[0;34m(model, data, n_anomalies, epsilon, alpha, num_steps)\u001B[0m\n\u001B[1;32m     14\u001B[0m                 \u001B[0mprediction\u001B[0m \u001B[0;34m=\u001B[0m \u001B[0mmodel\u001B[0m\u001B[0;34m(\u001B[0m\u001B[0mtf\u001B[0m\u001B[0;34m.\u001B[0m\u001B[0mexpand_dims\u001B[0m\u001B[0;34m(\u001B[0m\u001B[0manomaly\u001B[0m\u001B[0;34m,\u001B[0m \u001B[0maxis\u001B[0m\u001B[0;34m=\u001B[0m\u001B[0;36m0\u001B[0m\u001B[0;34m)\u001B[0m\u001B[0;34m)\u001B[0m\u001B[0;34m\u001B[0m\u001B[0;34m\u001B[0m\u001B[0m\n\u001B[1;32m     15\u001B[0m                 \u001B[0;31m# Kayıp hesapla (orijinal örneği hedef olarak al)\u001B[0m\u001B[0;34m\u001B[0m\u001B[0;34m\u001B[0m\u001B[0m\n\u001B[0;32m---> 16\u001B[0;31m                 \u001B[0mloss\u001B[0m \u001B[0;34m=\u001B[0m \u001B[0mtf\u001B[0m\u001B[0;34m.\u001B[0m\u001B[0mkeras\u001B[0m\u001B[0;34m.\u001B[0m\u001B[0mlosses\u001B[0m\u001B[0;34m.\u001B[0m\u001B[0mmean_squared_error\u001B[0m\u001B[0;34m(\u001B[0m\u001B[0moriginal_sample\u001B[0m\u001B[0;34m,\u001B[0m \u001B[0mprediction\u001B[0m\u001B[0;34m)\u001B[0m\u001B[0;34m\u001B[0m\u001B[0;34m\u001B[0m\u001B[0m\n\u001B[0m\u001B[1;32m     17\u001B[0m             \u001B[0mgradients\u001B[0m \u001B[0;34m=\u001B[0m \u001B[0mtape\u001B[0m\u001B[0;34m.\u001B[0m\u001B[0mgradient\u001B[0m\u001B[0;34m(\u001B[0m\u001B[0mloss\u001B[0m\u001B[0;34m,\u001B[0m \u001B[0manomaly\u001B[0m\u001B[0;34m)\u001B[0m\u001B[0;34m\u001B[0m\u001B[0;34m\u001B[0m\u001B[0m\n\u001B[1;32m     18\u001B[0m             \u001B[0;31m# PGD güncellemesi\u001B[0m\u001B[0;34m\u001B[0m\u001B[0;34m\u001B[0m\u001B[0m\n",
      "\u001B[0;31mAttributeError\u001B[0m: module 'keras._tf_keras.keras.losses' has no attribute 'mean_squared_error'"
     ]
    }
   ],
   "execution_count": 75
  },
  {
   "metadata": {},
   "cell_type": "code",
   "outputs": [],
   "execution_count": null,
   "source": [
    "# Anomalilerin etiketlerini saklama\n",
    "anomaly_labels = np.ones(n_anomalies)  # Tüm anomali etiketlerini 1 (anomalik) olarak ayarla\n",
    "\n",
    "# Normal verilerin etiketlerini oluşturma (0 olarak)\n",
    "normal_labels = np.zeros(len(X_test))"
   ],
   "id": "fd7584d454bb5713"
  },
  {
   "metadata": {},
   "cell_type": "code",
   "outputs": [],
   "execution_count": null,
   "source": [
    "# Modelin tahmini\n",
    "predictions = model.predict(anomalies)\n",
    "predicted_labels = (predictions > 0.5).astype(int)  # 0.5 eşik değerini kullanarak tahminleri ikili forma çevir\n",
    "\n",
    "# Sonuçları karşılaştırma\n",
    "comparison = np.column_stack((anomaly_labels, predicted_labels))\n",
    "print(comparison)  # Gerçek ve tahmin edilen etiketleri göster"
   ],
   "id": "7302ceebd84e8da9"
  },
  {
   "metadata": {},
   "cell_type": "code",
   "outputs": [],
   "execution_count": null,
   "source": "",
   "id": "bb54ea5b23b9a7b3"
  },
  {
   "metadata": {},
   "cell_type": "code",
   "outputs": [],
   "execution_count": null,
   "source": "",
   "id": "31517e9cdcf58b8c"
  },
  {
   "metadata": {},
   "cell_type": "code",
   "outputs": [],
   "execution_count": null,
   "source": "",
   "id": "dce17c97e866b449"
  },
  {
   "metadata": {},
   "cell_type": "code",
   "outputs": [],
   "execution_count": null,
   "source": "",
   "id": "dff593d98be30f8b"
  }
 ],
 "metadata": {
  "kernelspec": {
   "display_name": "Python 3",
   "language": "python",
   "name": "python3"
  },
  "language_info": {
   "codemirror_mode": {
    "name": "ipython",
    "version": 2
   },
   "file_extension": ".py",
   "mimetype": "text/x-python",
   "name": "python",
   "nbconvert_exporter": "python",
   "pygments_lexer": "ipython2",
   "version": "2.7.6"
  }
 },
 "nbformat": 4,
 "nbformat_minor": 5
}
