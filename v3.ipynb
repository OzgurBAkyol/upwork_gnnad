{
 "cells": [
  {
   "metadata": {
    "ExecuteTime": {
     "end_time": "2024-10-19T20:49:24.408336Z",
     "start_time": "2024-10-19T20:49:24.402397Z"
    }
   },
   "cell_type": "code",
   "source": [
    "import pandas as pd\n",
    "import numpy as np\n",
    "import glob\n",
    "from sklearn.model_selection import train_test_split\n",
    "import torch\n",
    "import torch.nn as nn\n",
    "import torch.optim as optim\n",
    "from sklearn.metrics import accuracy_score, precision_score, recall_score, f1_score\n",
    "from torch.utils.data import DataLoader, TensorDataset\n",
    "from pygments.unistring import combine"
   ],
   "id": "4502cecfd10be424",
   "outputs": [],
   "execution_count": 39
  },
  {
   "metadata": {
    "ExecuteTime": {
     "end_time": "2024-10-19T20:49:25.016354Z",
     "start_time": "2024-10-19T20:49:24.870778Z"
    }
   },
   "cell_type": "code",
   "source": [
    "file_path = './last_data/*.csv'\n",
    "all_files = glob.glob(file_path)\n",
    "df_list = []\n",
    "\n",
    "for file in all_files:\n",
    "    df = pd.read_csv(file) \n",
    "    df_list.append(df) \n",
    "\n",
    "combined_df = pd.concat(df_list)\n",
    "combined_df.sort_values(by='timestamp', inplace=True)\n",
    "output_file = 'combined.csv'\n",
    "\n",
    "print(combined_df.head())"
   ],
   "id": "552ee1a0cd1795f2",
   "outputs": [
    {
     "name": "stdout",
     "output_type": "stream",
     "text": [
      "             timestamp  pm25_avg_60  windspeed  winddir\n",
      "0  2023-10-01 00:00:00     3.132667       14.2    329.0\n",
      "0  2023-10-01 00:00:00     2.669667       14.2    329.0\n",
      "0  2023-10-01 00:00:00     5.386000       14.2    329.0\n",
      "0  2023-10-01 00:00:00     3.351000       14.2    329.0\n",
      "0  2023-10-01 00:00:00     6.283667       14.2    329.0\n"
     ]
    }
   ],
   "execution_count": 40
  },
  {
   "metadata": {
    "ExecuteTime": {
     "end_time": "2024-10-19T20:49:25.737242Z",
     "start_time": "2024-10-19T20:49:25.718280Z"
    }
   },
   "cell_type": "code",
   "source": [
    "data = combined_df.dropna()\n",
    "print(data)"
   ],
   "id": "f42b7ed21ec08817",
   "outputs": [
    {
     "name": "stdout",
     "output_type": "stream",
     "text": [
      "                timestamp  pm25_avg_60  windspeed  winddir\n",
      "0     2023-10-01 00:00:00     3.132667       14.2    329.0\n",
      "0     2023-10-01 00:00:00     2.669667       14.2    329.0\n",
      "0     2023-10-01 00:00:00     5.386000       14.2    329.0\n",
      "0     2023-10-01 00:00:00     3.351000       14.2    329.0\n",
      "0     2023-10-01 00:00:00     6.283667       14.2    329.0\n",
      "...                   ...          ...        ...      ...\n",
      "2929  2024-01-31 01:00:00    -0.430000        7.4    109.0\n",
      "2929  2024-01-31 01:00:00     3.785000        7.4    109.0\n",
      "2929  2024-01-31 01:00:00    15.618000        7.4    109.0\n",
      "2929  2024-01-31 01:00:00    10.408667        7.4    109.0\n",
      "2929  2024-01-31 01:00:00     3.558333        7.4    109.0\n",
      "\n",
      "[120089 rows x 4 columns]\n"
     ]
    }
   ],
   "execution_count": 41
  },
  {
   "metadata": {
    "ExecuteTime": {
     "end_time": "2024-10-19T20:49:26.340795Z",
     "start_time": "2024-10-19T20:49:26.335557Z"
    }
   },
   "cell_type": "code",
   "source": [
    "data.reset_index(drop=True, inplace=True)\n",
    "print(data)"
   ],
   "id": "365d048e79359314",
   "outputs": [
    {
     "name": "stdout",
     "output_type": "stream",
     "text": [
      "                  timestamp  pm25_avg_60  windspeed  winddir\n",
      "0       2023-10-01 00:00:00     3.132667       14.2    329.0\n",
      "1       2023-10-01 00:00:00     2.669667       14.2    329.0\n",
      "2       2023-10-01 00:00:00     5.386000       14.2    329.0\n",
      "3       2023-10-01 00:00:00     3.351000       14.2    329.0\n",
      "4       2023-10-01 00:00:00     6.283667       14.2    329.0\n",
      "...                     ...          ...        ...      ...\n",
      "120084  2024-01-31 01:00:00    -0.430000        7.4    109.0\n",
      "120085  2024-01-31 01:00:00     3.785000        7.4    109.0\n",
      "120086  2024-01-31 01:00:00    15.618000        7.4    109.0\n",
      "120087  2024-01-31 01:00:00    10.408667        7.4    109.0\n",
      "120088  2024-01-31 01:00:00     3.558333        7.4    109.0\n",
      "\n",
      "[120089 rows x 4 columns]\n"
     ]
    }
   ],
   "execution_count": 42
  },
  {
   "metadata": {
    "ExecuteTime": {
     "end_time": "2024-10-19T20:49:26.804379Z",
     "start_time": "2024-10-19T20:49:26.801357Z"
    }
   },
   "cell_type": "code",
   "source": "data.index = data.index.astype('int64')",
   "id": "fc8f980acd615663",
   "outputs": [],
   "execution_count": 43
  },
  {
   "metadata": {
    "ExecuteTime": {
     "end_time": "2024-10-19T20:49:27.431070Z",
     "start_time": "2024-10-19T20:49:27.423679Z"
    }
   },
   "cell_type": "code",
   "source": "data",
   "id": "277a7ba0f34855a8",
   "outputs": [
    {
     "data": {
      "text/plain": [
       "                  timestamp  pm25_avg_60  windspeed  winddir\n",
       "0       2023-10-01 00:00:00     3.132667       14.2    329.0\n",
       "1       2023-10-01 00:00:00     2.669667       14.2    329.0\n",
       "2       2023-10-01 00:00:00     5.386000       14.2    329.0\n",
       "3       2023-10-01 00:00:00     3.351000       14.2    329.0\n",
       "4       2023-10-01 00:00:00     6.283667       14.2    329.0\n",
       "...                     ...          ...        ...      ...\n",
       "120084  2024-01-31 01:00:00    -0.430000        7.4    109.0\n",
       "120085  2024-01-31 01:00:00     3.785000        7.4    109.0\n",
       "120086  2024-01-31 01:00:00    15.618000        7.4    109.0\n",
       "120087  2024-01-31 01:00:00    10.408667        7.4    109.0\n",
       "120088  2024-01-31 01:00:00     3.558333        7.4    109.0\n",
       "\n",
       "[120089 rows x 4 columns]"
      ],
      "text/html": [
       "<div>\n",
       "<style scoped>\n",
       "    .dataframe tbody tr th:only-of-type {\n",
       "        vertical-align: middle;\n",
       "    }\n",
       "\n",
       "    .dataframe tbody tr th {\n",
       "        vertical-align: top;\n",
       "    }\n",
       "\n",
       "    .dataframe thead th {\n",
       "        text-align: right;\n",
       "    }\n",
       "</style>\n",
       "<table border=\"1\" class=\"dataframe\">\n",
       "  <thead>\n",
       "    <tr style=\"text-align: right;\">\n",
       "      <th></th>\n",
       "      <th>timestamp</th>\n",
       "      <th>pm25_avg_60</th>\n",
       "      <th>windspeed</th>\n",
       "      <th>winddir</th>\n",
       "    </tr>\n",
       "  </thead>\n",
       "  <tbody>\n",
       "    <tr>\n",
       "      <th>0</th>\n",
       "      <td>2023-10-01 00:00:00</td>\n",
       "      <td>3.132667</td>\n",
       "      <td>14.2</td>\n",
       "      <td>329.0</td>\n",
       "    </tr>\n",
       "    <tr>\n",
       "      <th>1</th>\n",
       "      <td>2023-10-01 00:00:00</td>\n",
       "      <td>2.669667</td>\n",
       "      <td>14.2</td>\n",
       "      <td>329.0</td>\n",
       "    </tr>\n",
       "    <tr>\n",
       "      <th>2</th>\n",
       "      <td>2023-10-01 00:00:00</td>\n",
       "      <td>5.386000</td>\n",
       "      <td>14.2</td>\n",
       "      <td>329.0</td>\n",
       "    </tr>\n",
       "    <tr>\n",
       "      <th>3</th>\n",
       "      <td>2023-10-01 00:00:00</td>\n",
       "      <td>3.351000</td>\n",
       "      <td>14.2</td>\n",
       "      <td>329.0</td>\n",
       "    </tr>\n",
       "    <tr>\n",
       "      <th>4</th>\n",
       "      <td>2023-10-01 00:00:00</td>\n",
       "      <td>6.283667</td>\n",
       "      <td>14.2</td>\n",
       "      <td>329.0</td>\n",
       "    </tr>\n",
       "    <tr>\n",
       "      <th>...</th>\n",
       "      <td>...</td>\n",
       "      <td>...</td>\n",
       "      <td>...</td>\n",
       "      <td>...</td>\n",
       "    </tr>\n",
       "    <tr>\n",
       "      <th>120084</th>\n",
       "      <td>2024-01-31 01:00:00</td>\n",
       "      <td>-0.430000</td>\n",
       "      <td>7.4</td>\n",
       "      <td>109.0</td>\n",
       "    </tr>\n",
       "    <tr>\n",
       "      <th>120085</th>\n",
       "      <td>2024-01-31 01:00:00</td>\n",
       "      <td>3.785000</td>\n",
       "      <td>7.4</td>\n",
       "      <td>109.0</td>\n",
       "    </tr>\n",
       "    <tr>\n",
       "      <th>120086</th>\n",
       "      <td>2024-01-31 01:00:00</td>\n",
       "      <td>15.618000</td>\n",
       "      <td>7.4</td>\n",
       "      <td>109.0</td>\n",
       "    </tr>\n",
       "    <tr>\n",
       "      <th>120087</th>\n",
       "      <td>2024-01-31 01:00:00</td>\n",
       "      <td>10.408667</td>\n",
       "      <td>7.4</td>\n",
       "      <td>109.0</td>\n",
       "    </tr>\n",
       "    <tr>\n",
       "      <th>120088</th>\n",
       "      <td>2024-01-31 01:00:00</td>\n",
       "      <td>3.558333</td>\n",
       "      <td>7.4</td>\n",
       "      <td>109.0</td>\n",
       "    </tr>\n",
       "  </tbody>\n",
       "</table>\n",
       "<p>120089 rows × 4 columns</p>\n",
       "</div>"
      ]
     },
     "execution_count": 44,
     "metadata": {},
     "output_type": "execute_result"
    }
   ],
   "execution_count": 44
  },
  {
   "metadata": {
    "ExecuteTime": {
     "end_time": "2024-10-19T20:49:28.233028Z",
     "start_time": "2024-10-19T20:49:28.219976Z"
    }
   },
   "cell_type": "code",
   "source": [
    "data.drop(columns=['timestamp'], inplace=True)\n",
    "data"
   ],
   "id": "371063afe818a9ce",
   "outputs": [
    {
     "name": "stderr",
     "output_type": "stream",
     "text": [
      "/var/folders/vr/11d0bknx2ms1fxq4p99sr8tc0000gn/T/ipykernel_32163/1127082659.py:1: SettingWithCopyWarning: \n",
      "A value is trying to be set on a copy of a slice from a DataFrame\n",
      "\n",
      "See the caveats in the documentation: https://pandas.pydata.org/pandas-docs/stable/user_guide/indexing.html#returning-a-view-versus-a-copy\n",
      "  data.drop(columns=['timestamp'], inplace=True)\n"
     ]
    },
    {
     "data": {
      "text/plain": [
       "        pm25_avg_60  windspeed  winddir\n",
       "0          3.132667       14.2    329.0\n",
       "1          2.669667       14.2    329.0\n",
       "2          5.386000       14.2    329.0\n",
       "3          3.351000       14.2    329.0\n",
       "4          6.283667       14.2    329.0\n",
       "...             ...        ...      ...\n",
       "120084    -0.430000        7.4    109.0\n",
       "120085     3.785000        7.4    109.0\n",
       "120086    15.618000        7.4    109.0\n",
       "120087    10.408667        7.4    109.0\n",
       "120088     3.558333        7.4    109.0\n",
       "\n",
       "[120089 rows x 3 columns]"
      ],
      "text/html": [
       "<div>\n",
       "<style scoped>\n",
       "    .dataframe tbody tr th:only-of-type {\n",
       "        vertical-align: middle;\n",
       "    }\n",
       "\n",
       "    .dataframe tbody tr th {\n",
       "        vertical-align: top;\n",
       "    }\n",
       "\n",
       "    .dataframe thead th {\n",
       "        text-align: right;\n",
       "    }\n",
       "</style>\n",
       "<table border=\"1\" class=\"dataframe\">\n",
       "  <thead>\n",
       "    <tr style=\"text-align: right;\">\n",
       "      <th></th>\n",
       "      <th>pm25_avg_60</th>\n",
       "      <th>windspeed</th>\n",
       "      <th>winddir</th>\n",
       "    </tr>\n",
       "  </thead>\n",
       "  <tbody>\n",
       "    <tr>\n",
       "      <th>0</th>\n",
       "      <td>3.132667</td>\n",
       "      <td>14.2</td>\n",
       "      <td>329.0</td>\n",
       "    </tr>\n",
       "    <tr>\n",
       "      <th>1</th>\n",
       "      <td>2.669667</td>\n",
       "      <td>14.2</td>\n",
       "      <td>329.0</td>\n",
       "    </tr>\n",
       "    <tr>\n",
       "      <th>2</th>\n",
       "      <td>5.386000</td>\n",
       "      <td>14.2</td>\n",
       "      <td>329.0</td>\n",
       "    </tr>\n",
       "    <tr>\n",
       "      <th>3</th>\n",
       "      <td>3.351000</td>\n",
       "      <td>14.2</td>\n",
       "      <td>329.0</td>\n",
       "    </tr>\n",
       "    <tr>\n",
       "      <th>4</th>\n",
       "      <td>6.283667</td>\n",
       "      <td>14.2</td>\n",
       "      <td>329.0</td>\n",
       "    </tr>\n",
       "    <tr>\n",
       "      <th>...</th>\n",
       "      <td>...</td>\n",
       "      <td>...</td>\n",
       "      <td>...</td>\n",
       "    </tr>\n",
       "    <tr>\n",
       "      <th>120084</th>\n",
       "      <td>-0.430000</td>\n",
       "      <td>7.4</td>\n",
       "      <td>109.0</td>\n",
       "    </tr>\n",
       "    <tr>\n",
       "      <th>120085</th>\n",
       "      <td>3.785000</td>\n",
       "      <td>7.4</td>\n",
       "      <td>109.0</td>\n",
       "    </tr>\n",
       "    <tr>\n",
       "      <th>120086</th>\n",
       "      <td>15.618000</td>\n",
       "      <td>7.4</td>\n",
       "      <td>109.0</td>\n",
       "    </tr>\n",
       "    <tr>\n",
       "      <th>120087</th>\n",
       "      <td>10.408667</td>\n",
       "      <td>7.4</td>\n",
       "      <td>109.0</td>\n",
       "    </tr>\n",
       "    <tr>\n",
       "      <th>120088</th>\n",
       "      <td>3.558333</td>\n",
       "      <td>7.4</td>\n",
       "      <td>109.0</td>\n",
       "    </tr>\n",
       "  </tbody>\n",
       "</table>\n",
       "<p>120089 rows × 3 columns</p>\n",
       "</div>"
      ]
     },
     "execution_count": 45,
     "metadata": {},
     "output_type": "execute_result"
    }
   ],
   "execution_count": 45
  },
  {
   "metadata": {
    "ExecuteTime": {
     "end_time": "2024-10-19T20:49:28.972129Z",
     "start_time": "2024-10-19T20:49:28.965294Z"
    }
   },
   "cell_type": "code",
   "source": [
    "new_columns = list(range(len(data.columns)))\n",
    "data.columns = new_columns\n",
    "\n",
    "data"
   ],
   "id": "ba5fdac5debefe3d",
   "outputs": [
    {
     "data": {
      "text/plain": [
       "                0     1      2\n",
       "0        3.132667  14.2  329.0\n",
       "1        2.669667  14.2  329.0\n",
       "2        5.386000  14.2  329.0\n",
       "3        3.351000  14.2  329.0\n",
       "4        6.283667  14.2  329.0\n",
       "...           ...   ...    ...\n",
       "120084  -0.430000   7.4  109.0\n",
       "120085   3.785000   7.4  109.0\n",
       "120086  15.618000   7.4  109.0\n",
       "120087  10.408667   7.4  109.0\n",
       "120088   3.558333   7.4  109.0\n",
       "\n",
       "[120089 rows x 3 columns]"
      ],
      "text/html": [
       "<div>\n",
       "<style scoped>\n",
       "    .dataframe tbody tr th:only-of-type {\n",
       "        vertical-align: middle;\n",
       "    }\n",
       "\n",
       "    .dataframe tbody tr th {\n",
       "        vertical-align: top;\n",
       "    }\n",
       "\n",
       "    .dataframe thead th {\n",
       "        text-align: right;\n",
       "    }\n",
       "</style>\n",
       "<table border=\"1\" class=\"dataframe\">\n",
       "  <thead>\n",
       "    <tr style=\"text-align: right;\">\n",
       "      <th></th>\n",
       "      <th>0</th>\n",
       "      <th>1</th>\n",
       "      <th>2</th>\n",
       "    </tr>\n",
       "  </thead>\n",
       "  <tbody>\n",
       "    <tr>\n",
       "      <th>0</th>\n",
       "      <td>3.132667</td>\n",
       "      <td>14.2</td>\n",
       "      <td>329.0</td>\n",
       "    </tr>\n",
       "    <tr>\n",
       "      <th>1</th>\n",
       "      <td>2.669667</td>\n",
       "      <td>14.2</td>\n",
       "      <td>329.0</td>\n",
       "    </tr>\n",
       "    <tr>\n",
       "      <th>2</th>\n",
       "      <td>5.386000</td>\n",
       "      <td>14.2</td>\n",
       "      <td>329.0</td>\n",
       "    </tr>\n",
       "    <tr>\n",
       "      <th>3</th>\n",
       "      <td>3.351000</td>\n",
       "      <td>14.2</td>\n",
       "      <td>329.0</td>\n",
       "    </tr>\n",
       "    <tr>\n",
       "      <th>4</th>\n",
       "      <td>6.283667</td>\n",
       "      <td>14.2</td>\n",
       "      <td>329.0</td>\n",
       "    </tr>\n",
       "    <tr>\n",
       "      <th>...</th>\n",
       "      <td>...</td>\n",
       "      <td>...</td>\n",
       "      <td>...</td>\n",
       "    </tr>\n",
       "    <tr>\n",
       "      <th>120084</th>\n",
       "      <td>-0.430000</td>\n",
       "      <td>7.4</td>\n",
       "      <td>109.0</td>\n",
       "    </tr>\n",
       "    <tr>\n",
       "      <th>120085</th>\n",
       "      <td>3.785000</td>\n",
       "      <td>7.4</td>\n",
       "      <td>109.0</td>\n",
       "    </tr>\n",
       "    <tr>\n",
       "      <th>120086</th>\n",
       "      <td>15.618000</td>\n",
       "      <td>7.4</td>\n",
       "      <td>109.0</td>\n",
       "    </tr>\n",
       "    <tr>\n",
       "      <th>120087</th>\n",
       "      <td>10.408667</td>\n",
       "      <td>7.4</td>\n",
       "      <td>109.0</td>\n",
       "    </tr>\n",
       "    <tr>\n",
       "      <th>120088</th>\n",
       "      <td>3.558333</td>\n",
       "      <td>7.4</td>\n",
       "      <td>109.0</td>\n",
       "    </tr>\n",
       "  </tbody>\n",
       "</table>\n",
       "<p>120089 rows × 3 columns</p>\n",
       "</div>"
      ]
     },
     "execution_count": 46,
     "metadata": {},
     "output_type": "execute_result"
    }
   ],
   "execution_count": 46
  },
  {
   "metadata": {
    "ExecuteTime": {
     "end_time": "2024-10-19T20:49:29.846363Z",
     "start_time": "2024-10-19T20:49:29.826737Z"
    }
   },
   "cell_type": "code",
   "source": "train_data, test_data = train_test_split(data, test_size=0.3, random_state=42)",
   "id": "49dd55cd2dee074a",
   "outputs": [],
   "execution_count": 47
  },
  {
   "metadata": {
    "ExecuteTime": {
     "end_time": "2024-10-19T20:49:30.669659Z",
     "start_time": "2024-10-19T20:49:30.654559Z"
    }
   },
   "cell_type": "code",
   "source": [
    "class GraPhyModel(nn.Module):\n",
    "    def __init__(self, input_dim, hidden_dim, num_layers):\n",
    "        super(GraPhyModel, self).__init__()\n",
    "        self.layers = nn.ModuleList()\n",
    "        self.layers.append(nn.Linear(input_dim, hidden_dim))  \n",
    "\n",
    "        for _ in range(1, num_layers):\n",
    "            self.layers.append(nn.Linear(hidden_dim, hidden_dim))  \n",
    "\n",
    "        self.output_layer = nn.Linear(hidden_dim, input_dim)  \n",
    "\n",
    "    def forward(self, x):\n",
    "        for layer in self.layers:\n",
    "            x = torch.relu(layer(x))  \n",
    "        x = self.output_layer(x)  \n",
    "        return x\n",
    "\n",
    "input_dim = train_data.shape[1]  \n",
    "hidden_dim = 512\n",
    "num_layers = 5\n",
    "\n",
    "model = GraPhyModel(input_dim=input_dim, hidden_dim=hidden_dim, num_layers=num_layers)\n",
    "\n",
    "optimizer = optim.Adam(model.parameters(), lr=0.0001, betas=(0.9, 0.999))\n",
    "\n",
    "\n",
    "criterion = nn.MSELoss()   "
   ],
   "id": "7027c3bb5b6b40c0",
   "outputs": [],
   "execution_count": 48
  },
  {
   "metadata": {
    "ExecuteTime": {
     "end_time": "2024-10-19T20:49:31.414828Z",
     "start_time": "2024-10-19T20:49:31.407592Z"
    }
   },
   "cell_type": "code",
   "source": [
    "train_tensor = torch.tensor(train_data.values, dtype=torch.float32)\n",
    "\n",
    "train_dataset = TensorDataset(train_tensor, train_tensor)\n",
    "train_loader = DataLoader(train_dataset, batch_size=32, shuffle=True)\n",
    "\n",
    "num_epochs = 10\n",
    "model.train()"
   ],
   "id": "472941541ef61e1b",
   "outputs": [
    {
     "data": {
      "text/plain": [
       "GraPhyModel(\n",
       "  (layers): ModuleList(\n",
       "    (0): Linear(in_features=3, out_features=512, bias=True)\n",
       "    (1-4): 4 x Linear(in_features=512, out_features=512, bias=True)\n",
       "  )\n",
       "  (output_layer): Linear(in_features=512, out_features=3, bias=True)\n",
       ")"
      ]
     },
     "execution_count": 49,
     "metadata": {},
     "output_type": "execute_result"
    }
   ],
   "execution_count": 49
  },
  {
   "metadata": {
    "ExecuteTime": {
     "end_time": "2024-10-19T20:50:25.454792Z",
     "start_time": "2024-10-19T20:49:32.278776Z"
    }
   },
   "cell_type": "code",
   "source": [
    "for epoch in range(num_epochs):\n",
    "    running_loss = 0.0\n",
    "    for inputs, _ in train_loader:\n",
    "        optimizer.zero_grad()\n",
    "\n",
    "        outputs = model(inputs)\n",
    "        loss = criterion(outputs, inputs)\n",
    "\n",
    "        loss.backward()\n",
    "        optimizer.step()\n",
    "\n",
    "        running_loss += loss.item()\n",
    "\n",
    "    avg_loss = running_loss / len(train_loader)\n",
    "    print(f\"Epoch {epoch+1}/{num_epochs}, Loss: {avg_loss:.6f}\")"
   ],
   "id": "b37cc83569249d8b",
   "outputs": [
    {
     "name": "stdout",
     "output_type": "stream",
     "text": [
      "Epoch 1/10, Loss: 245.484691\n",
      "Epoch 2/10, Loss: 7.557329\n",
      "Epoch 3/10, Loss: 9.025205\n",
      "Epoch 4/10, Loss: 9.035647\n",
      "Epoch 5/10, Loss: 7.234597\n",
      "Epoch 6/10, Loss: 5.103715\n",
      "Epoch 7/10, Loss: 5.050767\n",
      "Epoch 8/10, Loss: 4.728178\n",
      "Epoch 9/10, Loss: 3.779249\n",
      "Epoch 10/10, Loss: 3.164120\n"
     ]
    }
   ],
   "execution_count": 50
  },
  {
   "metadata": {
    "ExecuteTime": {
     "end_time": "2024-10-19T22:33:26.924731Z",
     "start_time": "2024-10-19T22:33:26.918688Z"
    }
   },
   "cell_type": "code",
   "source": [
    "import torch\n",
    "import torch.nn as nn\n",
    "\n",
    "class BIMAttack:\n",
    "    def __init__(self, model, eps=0.1, \n",
    "                 alpha=0.05, \n",
    "                 steps=10):\n",
    "        self.model = model\n",
    "        self.eps = eps \n",
    "        self.alpha = alpha  \n",
    "        self.steps = steps \n",
    "        self.loss_fn = nn.MSELoss()  \n",
    "\n",
    "    def generate(self, data):\n",
    "        original_data = data.clone().detach()  \n",
    "        perturbed_data = data.clone().detach()\n",
    "\n",
    "        for _ in range(self.steps):\n",
    "            perturbed_data.requires_grad = True\n",
    "            outputs = self.model(perturbed_data)\n",
    "\n",
    "            loss = self.loss_fn(outputs, original_data)\n",
    "\n",
    "            self.model.zero_grad()\n",
    "            loss.backward()\n",
    "\n",
    "            grad = perturbed_data.grad.sign()\n",
    "            perturbed_data = perturbed_data + self.alpha * grad\n",
    "\n",
    "            perturbation = torch.clamp(perturbed_data - original_data, min=-self.eps, max=self.eps)\n",
    "            perturbed_data = torch.clamp(original_data + perturbation, min=0, max=1).detach()\n",
    "\n",
    "        return perturbed_data"
   ],
   "id": "361ce3804de2d553",
   "outputs": [],
   "execution_count": 89
  },
  {
   "metadata": {
    "ExecuteTime": {
     "end_time": "2024-10-19T23:00:07.206890Z",
     "start_time": "2024-10-19T22:53:35.577253Z"
    }
   },
   "cell_type": "code",
   "source": [
    "bim_attack = BIMAttack(model, eps=0.1,\n",
    "                       alpha=0.01, \n",
    "                       steps=20)\n",
    "\n",
    "test_tensor = torch.tensor(test_data.values, dtype=torch.float32)\n",
    "\n",
    "num_samples = test_tensor.shape[0]\n",
    "\n",
    "perturbed_test_data = []\n",
    "for i in range(num_samples):\n",
    "    single_data = test_tensor[i].unsqueeze(0)  \n",
    "    perturbed_data = bim_attack.generate(single_data)  \n",
    "    perturbed_test_data.append(perturbed_data)\n",
    "\n",
    "perturbed_test_data = torch.cat(perturbed_test_data, dim=0)\n",
    "\n",
    "original_labels = torch.zeros(num_samples)  # 0\n",
    "anomaly_labels = torch.ones(num_samples)    # 1\n",
    "\n",
    "combined_data = torch.cat((test_tensor, perturbed_test_data), dim=0)\n",
    "combined_labels = torch.cat((original_labels, anomaly_labels), dim=0)"
   ],
   "id": "ab37700169f21f46",
   "outputs": [],
   "execution_count": 97
  },
  {
   "metadata": {
    "ExecuteTime": {
     "end_time": "2024-10-19T23:00:07.724326Z",
     "start_time": "2024-10-19T23:00:07.235273Z"
    }
   },
   "cell_type": "code",
   "source": [
    "with torch.no_grad():\n",
    "    model.eval()\n",
    "    predictions = model(combined_data)\n",
    "\n",
    "\n",
    "predicted_labels = torch.norm(predictions - combined_data, dim=1)  \n",
    "\n",
    "threshold = 0.06  \n",
    "predicted_labels = (predicted_labels > threshold).float()  \n",
    "\n",
    "accuracy = accuracy_score(combined_labels, predicted_labels)\n",
    "precision = precision_score(combined_labels, predicted_labels)\n",
    "recall = recall_score(combined_labels, predicted_labels)\n",
    "f1 = f1_score(combined_labels, predicted_labels)\n",
    "\n",
    "print(f\"Accuracy: {accuracy:.4f}\")\n",
    "print(f\"Precision: {precision:.4f}\")\n",
    "print(f\"Recall: {recall:.4f}\")\n",
    "print(f\"F1 Score: {f1:.4f}\")"
   ],
   "id": "39dc71bedcb1d658",
   "outputs": [
    {
     "name": "stdout",
     "output_type": "stream",
     "text": [
      "Accuracy: 0.5102\n",
      "Precision: 0.5052\n",
      "Recall: 0.9782\n",
      "F1 Score: 0.6663\n"
     ]
    }
   ],
   "execution_count": 98
  },
  {
   "metadata": {
    "ExecuteTime": {
     "end_time": "2024-10-19T22:33:11.605136Z",
     "start_time": "2024-10-19T22:32:55.055497Z"
    }
   },
   "cell_type": "code",
   "source": [
    "epsilons = [0.008, 0.05, 0.1, 0.2]\n",
    "for eps in epsilons:\n",
    "    bim_attack = BIMAttack(model, eps=eps, alpha=0.01, steps=10)\n",
    "    perturbed_test_data = bim_attack.generate(test_tensor)\n",
    "    \n",
    "    combined_data = torch.cat((test_tensor, perturbed_test_data), dim=0)\n",
    "    with torch.no_grad():\n",
    "        model.eval()\n",
    "        predictions = model(combined_data)\n",
    "        \n",
    "    predicted_labels = torch.norm(predictions - combined_data, dim=1)\n",
    "    threshold = 0.4 * eps  \n",
    "    predicted_labels = (predicted_labels > threshold).float()\n",
    "    \n",
    "    accuracy = accuracy_score(combined_labels, predicted_labels)\n",
    "    precision = precision_score(combined_labels, predicted_labels)\n",
    "    recall = recall_score(combined_labels, predicted_labels)\n",
    "    f1 = f1_score(combined_labels, predicted_labels)\n",
    "    \n",
    "    print(f\"Epsilon: {eps}, \"\n",
    "          f\"Accuracy: {accuracy:.4f}, \"\n",
    "          f\"Precision: {precision:.4f}, \"\n",
    "          f\"Recall: {recall:.4f}, \"\n",
    "          f\"F1 Score: {f1:.4f}\")"
   ],
   "id": "3686a75c8bdef11d",
   "outputs": [
    {
     "name": "stdout",
     "output_type": "stream",
     "text": [
      "Epsilon: 0.008, Accuracy: 0.5000, Precision: 0.5000, Recall: 1.0000, F1 Score: 0.6667\n",
      "Epsilon: 0.05, Accuracy: 0.5049, Precision: 0.5024, Recall: 0.9999, F1 Score: 0.6688\n",
      "Epsilon: 0.1, Accuracy: 0.5028, Precision: 0.5014, Recall: 0.9835, F1 Score: 0.6642\n",
      "Epsilon: 0.2, Accuracy: 0.4915, Precision: 0.4954, Recall: 0.9124, F1 Score: 0.6421\n"
     ]
    }
   ],
   "execution_count": 88
  },
  {
   "metadata": {},
   "cell_type": "code",
   "outputs": [],
   "execution_count": null,
   "source": "",
   "id": "c7bed6a74e7c5f8"
  },
  {
   "metadata": {},
   "cell_type": "code",
   "outputs": [],
   "execution_count": null,
   "source": "",
   "id": "6ec703cbe5c464e8"
  },
  {
   "metadata": {},
   "cell_type": "code",
   "outputs": [],
   "execution_count": null,
   "source": "",
   "id": "6133a42c2fb609ad"
  },
  {
   "metadata": {},
   "cell_type": "code",
   "outputs": [],
   "execution_count": null,
   "source": "",
   "id": "3b92c23b9dcec3d5"
  },
  {
   "metadata": {},
   "cell_type": "code",
   "outputs": [],
   "execution_count": null,
   "source": "",
   "id": "17bb5c5f94e6bb04"
  },
  {
   "metadata": {},
   "cell_type": "code",
   "outputs": [],
   "execution_count": null,
   "source": "",
   "id": "dbcfb5b944bc7658"
  },
  {
   "metadata": {},
   "cell_type": "code",
   "outputs": [],
   "execution_count": null,
   "source": "",
   "id": "2475a73defd05e3d"
  },
  {
   "metadata": {},
   "cell_type": "code",
   "outputs": [],
   "execution_count": null,
   "source": "",
   "id": "4ffea1c342168306"
  }
 ],
 "metadata": {
  "kernelspec": {
   "display_name": "Python 3",
   "language": "python",
   "name": "python3"
  },
  "language_info": {
   "codemirror_mode": {
    "name": "ipython",
    "version": 2
   },
   "file_extension": ".py",
   "mimetype": "text/x-python",
   "name": "python",
   "nbconvert_exporter": "python",
   "pygments_lexer": "ipython2",
   "version": "2.7.6"
  }
 },
 "nbformat": 4,
 "nbformat_minor": 5
}
