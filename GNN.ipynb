{
 "cells": [
  {
   "metadata": {
    "collapsed": true,
    "ExecuteTime": {
     "end_time": "2024-10-19T11:54:01.704402Z",
     "start_time": "2024-10-19T11:53:39.666256Z"
    }
   },
   "cell_type": "code",
   "source": [
    "import pandas as pd\n",
    "import glob\n",
    "\n",
    "file_path = './Datasets/*.csv'\n",
    "all_files = glob.glob(file_path)\n",
    "df_list = []\n",
    "\n",
    "for file in all_files:\n",
    "    df = pd.read_csv(file) \n",
    "    df_list.append(df) \n",
    "# df pr\n",
    "\n",
    "combined_df = pd.concat(df_list)\n",
    "combined_df.sort_values(by='timestamp', inplace=True)\n",
    "output_file = 'combined.csv'\n",
    "combined_df.to_csv(output_file, index=False)\n",
    "\n",
    "print(combined_df.head())"
   ],
   "id": "initial_id",
   "outputs": [
    {
     "name": "stdout",
     "output_type": "stream",
     "text": [
      "                   timestamp sensor      pm10      pm25  pm25_avg_15  \\\n",
      "0  2023-09-30 18:00:00+00:00    NaN  3.803667 -0.410000     0.994667   \n",
      "0  2023-09-30 18:00:00+00:00    NaN  1.429000  5.957333     5.389000   \n",
      "0  2023-09-30 18:00:00+00:00    NaN  0.281667  3.992000     3.621000   \n",
      "0  2023-09-30 18:00:00+00:00    NaN  1.035000  5.494333     4.958667   \n",
      "0  2023-09-30 18:00:00+00:00    NaN  1.080333  3.536333     3.338667   \n",
      "\n",
      "   pm25_avg_60     pm100  \n",
      "0    -0.007333  4.110667  \n",
      "0     5.360667  2.837000  \n",
      "0     4.186667  0.912667  \n",
      "0     5.533333  1.485333  \n",
      "0     3.211000  1.911667  \n"
     ]
    }
   ],
   "execution_count": 1
  },
  {
   "metadata": {
    "ExecuteTime": {
     "end_time": "2024-10-19T11:54:01.840241Z",
     "start_time": "2024-10-19T11:54:01.827272Z"
    }
   },
   "cell_type": "code",
   "source": "combined_df.info()",
   "id": "f091c245ee0c7896",
   "outputs": [
    {
     "name": "stdout",
     "output_type": "stream",
     "text": [
      "<class 'pandas.core.frame.DataFrame'>\n",
      "Int64Index: 7313994 entries, 0 to 0\n",
      "Data columns (total 7 columns):\n",
      " #   Column       Dtype  \n",
      "---  ------       -----  \n",
      " 0   timestamp    object \n",
      " 1   sensor       object \n",
      " 2   pm10         float64\n",
      " 3   pm25         float64\n",
      " 4   pm25_avg_15  float64\n",
      " 5   pm25_avg_60  float64\n",
      " 6   pm100        float64\n",
      "dtypes: float64(5), object(2)\n",
      "memory usage: 446.4+ MB\n"
     ]
    }
   ],
   "execution_count": 2
  },
  {
   "metadata": {},
   "cell_type": "markdown",
   "source": "# install",
   "id": "b1efea1bc4f96c42"
  },
  {
   "metadata": {
    "ExecuteTime": {
     "end_time": "2024-10-19T11:54:03.008678Z",
     "start_time": "2024-10-19T11:54:01.919693Z"
    }
   },
   "cell_type": "code",
   "source": "!pip install gnnad",
   "id": "93f2ad5501752b79",
   "outputs": [
    {
     "name": "stdout",
     "output_type": "stream",
     "text": [
      "Requirement already satisfied: gnnad in /opt/anaconda3/lib/python3.10/site-packages (0.1.1)\r\n",
      "Requirement already satisfied: gstools<2.0.0,>=1.4.1 in /opt/anaconda3/lib/python3.10/site-packages (from gnnad) (1.6.0)\r\n",
      "Requirement already satisfied: matplotlib<4.0.0,>=3.7.1 in /opt/anaconda3/lib/python3.10/site-packages (from gnnad) (3.9.2)\r\n",
      "Requirement already satisfied: numpy<2.0.0,>=1.24.2 in /opt/anaconda3/lib/python3.10/site-packages (from gnnad) (1.26.4)\r\n",
      "Requirement already satisfied: pandas<2.0.0,>=1.5.3 in /opt/anaconda3/lib/python3.10/site-packages (from gnnad) (1.5.3)\r\n",
      "Requirement already satisfied: scikit-learn<2.0.0,>=1.2.2 in /opt/anaconda3/lib/python3.10/site-packages (from gnnad) (1.5.1)\r\n",
      "Requirement already satisfied: scipy<2.0.0,>=1.10.1 in /opt/anaconda3/lib/python3.10/site-packages (from gnnad) (1.13.1)\r\n",
      "Requirement already satisfied: torch<3.0.0,>=2.0.0 in /opt/anaconda3/lib/python3.10/site-packages (from gnnad) (2.4.1)\r\n",
      "Requirement already satisfied: torch-geometric<3.0.0,>=2.3.0 in /opt/anaconda3/lib/python3.10/site-packages (from gnnad) (2.6.1)\r\n",
      "Requirement already satisfied: torchsummary<2.0.0,>=1.5.1 in /opt/anaconda3/lib/python3.10/site-packages (from gnnad) (1.5.1)\r\n",
      "Requirement already satisfied: emcee>=3.0.0 in /opt/anaconda3/lib/python3.10/site-packages (from gstools<2.0.0,>=1.4.1->gnnad) (3.1.6)\r\n",
      "Requirement already satisfied: hankel>=1.0.0 in /opt/anaconda3/lib/python3.10/site-packages (from gstools<2.0.0,>=1.4.1->gnnad) (1.2.2)\r\n",
      "Requirement already satisfied: meshio>=5.1.0 in /opt/anaconda3/lib/python3.10/site-packages (from gstools<2.0.0,>=1.4.1->gnnad) (5.3.5)\r\n",
      "Requirement already satisfied: pyevtk>=1.1.1 in /opt/anaconda3/lib/python3.10/site-packages (from gstools<2.0.0,>=1.4.1->gnnad) (1.6.0)\r\n",
      "Requirement already satisfied: contourpy>=1.0.1 in /opt/anaconda3/lib/python3.10/site-packages (from matplotlib<4.0.0,>=3.7.1->gnnad) (1.2.0)\r\n",
      "Requirement already satisfied: cycler>=0.10 in /opt/anaconda3/lib/python3.10/site-packages (from matplotlib<4.0.0,>=3.7.1->gnnad) (0.11.0)\r\n",
      "Requirement already satisfied: fonttools>=4.22.0 in /opt/anaconda3/lib/python3.10/site-packages (from matplotlib<4.0.0,>=3.7.1->gnnad) (4.51.0)\r\n",
      "Requirement already satisfied: kiwisolver>=1.3.1 in /opt/anaconda3/lib/python3.10/site-packages (from matplotlib<4.0.0,>=3.7.1->gnnad) (1.4.4)\r\n",
      "Requirement already satisfied: packaging>=20.0 in /opt/anaconda3/lib/python3.10/site-packages (from matplotlib<4.0.0,>=3.7.1->gnnad) (24.1)\r\n",
      "Requirement already satisfied: pillow>=8 in /opt/anaconda3/lib/python3.10/site-packages (from matplotlib<4.0.0,>=3.7.1->gnnad) (10.4.0)\r\n",
      "Requirement already satisfied: pyparsing>=2.3.1 in /opt/anaconda3/lib/python3.10/site-packages (from matplotlib<4.0.0,>=3.7.1->gnnad) (3.1.2)\r\n",
      "Requirement already satisfied: python-dateutil>=2.7 in /opt/anaconda3/lib/python3.10/site-packages (from matplotlib<4.0.0,>=3.7.1->gnnad) (2.9.0.post0)\r\n",
      "Requirement already satisfied: pytz>=2020.1 in /opt/anaconda3/lib/python3.10/site-packages (from pandas<2.0.0,>=1.5.3->gnnad) (2024.1)\r\n",
      "Requirement already satisfied: joblib>=1.2.0 in /opt/anaconda3/lib/python3.10/site-packages (from scikit-learn<2.0.0,>=1.2.2->gnnad) (1.4.2)\r\n",
      "Requirement already satisfied: threadpoolctl>=3.1.0 in /opt/anaconda3/lib/python3.10/site-packages (from scikit-learn<2.0.0,>=1.2.2->gnnad) (3.5.0)\r\n",
      "Requirement already satisfied: filelock in /opt/anaconda3/lib/python3.10/site-packages (from torch<3.0.0,>=2.0.0->gnnad) (3.13.1)\r\n",
      "Requirement already satisfied: typing-extensions>=4.8.0 in /opt/anaconda3/lib/python3.10/site-packages (from torch<3.0.0,>=2.0.0->gnnad) (4.11.0)\r\n",
      "Requirement already satisfied: sympy in /opt/anaconda3/lib/python3.10/site-packages (from torch<3.0.0,>=2.0.0->gnnad) (1.13.2)\r\n",
      "Requirement already satisfied: networkx in /opt/anaconda3/lib/python3.10/site-packages (from torch<3.0.0,>=2.0.0->gnnad) (3.3)\r\n",
      "Requirement already satisfied: jinja2 in /opt/anaconda3/lib/python3.10/site-packages (from torch<3.0.0,>=2.0.0->gnnad) (3.1.4)\r\n",
      "Requirement already satisfied: fsspec in /opt/anaconda3/lib/python3.10/site-packages (from torch<3.0.0,>=2.0.0->gnnad) (2024.6.1)\r\n",
      "Requirement already satisfied: aiohttp in /opt/anaconda3/lib/python3.10/site-packages (from torch-geometric<3.0.0,>=2.3.0->gnnad) (3.10.5)\r\n",
      "Requirement already satisfied: psutil>=5.8.0 in /opt/anaconda3/lib/python3.10/site-packages (from torch-geometric<3.0.0,>=2.3.0->gnnad) (5.9.0)\r\n",
      "Requirement already satisfied: requests in /opt/anaconda3/lib/python3.10/site-packages (from torch-geometric<3.0.0,>=2.3.0->gnnad) (2.32.3)\r\n",
      "Requirement already satisfied: tqdm in /opt/anaconda3/lib/python3.10/site-packages (from torch-geometric<3.0.0,>=2.3.0->gnnad) (4.66.5)\r\n",
      "Requirement already satisfied: mpmath>=1.0.0 in /opt/anaconda3/lib/python3.10/site-packages (from hankel>=1.0.0->gstools<2.0.0,>=1.4.1->gnnad) (1.3.0)\r\n",
      "Requirement already satisfied: rich in /opt/anaconda3/lib/python3.10/site-packages (from meshio>=5.1.0->gstools<2.0.0,>=1.4.1->gnnad) (13.7.1)\r\n",
      "Requirement already satisfied: six>=1.5 in /opt/anaconda3/lib/python3.10/site-packages (from python-dateutil>=2.7->matplotlib<4.0.0,>=3.7.1->gnnad) (1.16.0)\r\n",
      "Requirement already satisfied: aiohappyeyeballs>=2.3.0 in /opt/anaconda3/lib/python3.10/site-packages (from aiohttp->torch-geometric<3.0.0,>=2.3.0->gnnad) (2.4.0)\r\n",
      "Requirement already satisfied: aiosignal>=1.1.2 in /opt/anaconda3/lib/python3.10/site-packages (from aiohttp->torch-geometric<3.0.0,>=2.3.0->gnnad) (1.2.0)\r\n",
      "Requirement already satisfied: attrs>=17.3.0 in /opt/anaconda3/lib/python3.10/site-packages (from aiohttp->torch-geometric<3.0.0,>=2.3.0->gnnad) (23.1.0)\r\n",
      "Requirement already satisfied: frozenlist>=1.1.1 in /opt/anaconda3/lib/python3.10/site-packages (from aiohttp->torch-geometric<3.0.0,>=2.3.0->gnnad) (1.4.0)\r\n",
      "Requirement already satisfied: multidict<7.0,>=4.5 in /opt/anaconda3/lib/python3.10/site-packages (from aiohttp->torch-geometric<3.0.0,>=2.3.0->gnnad) (6.0.4)\r\n",
      "Requirement already satisfied: yarl<2.0,>=1.0 in /opt/anaconda3/lib/python3.10/site-packages (from aiohttp->torch-geometric<3.0.0,>=2.3.0->gnnad) (1.11.0)\r\n",
      "Requirement already satisfied: async-timeout<5.0,>=4.0 in /opt/anaconda3/lib/python3.10/site-packages (from aiohttp->torch-geometric<3.0.0,>=2.3.0->gnnad) (4.0.3)\r\n",
      "Requirement already satisfied: MarkupSafe>=2.0 in /opt/anaconda3/lib/python3.10/site-packages (from jinja2->torch<3.0.0,>=2.0.0->gnnad) (2.1.3)\r\n",
      "Requirement already satisfied: charset-normalizer<4,>=2 in /opt/anaconda3/lib/python3.10/site-packages (from requests->torch-geometric<3.0.0,>=2.3.0->gnnad) (2.0.4)\r\n",
      "Requirement already satisfied: idna<4,>=2.5 in /opt/anaconda3/lib/python3.10/site-packages (from requests->torch-geometric<3.0.0,>=2.3.0->gnnad) (3.7)\r\n",
      "Requirement already satisfied: urllib3<3,>=1.21.1 in /opt/anaconda3/lib/python3.10/site-packages (from requests->torch-geometric<3.0.0,>=2.3.0->gnnad) (2.2.2)\r\n",
      "Requirement already satisfied: certifi>=2017.4.17 in /opt/anaconda3/lib/python3.10/site-packages (from requests->torch-geometric<3.0.0,>=2.3.0->gnnad) (2024.8.30)\r\n",
      "Requirement already satisfied: markdown-it-py>=2.2.0 in /opt/anaconda3/lib/python3.10/site-packages (from rich->meshio>=5.1.0->gstools<2.0.0,>=1.4.1->gnnad) (2.2.0)\r\n",
      "Requirement already satisfied: pygments<3.0.0,>=2.13.0 in /opt/anaconda3/lib/python3.10/site-packages (from rich->meshio>=5.1.0->gstools<2.0.0,>=1.4.1->gnnad) (2.15.1)\r\n",
      "Requirement already satisfied: mdurl~=0.1 in /opt/anaconda3/lib/python3.10/site-packages (from markdown-it-py>=2.2.0->rich->meshio>=5.1.0->gstools<2.0.0,>=1.4.1->gnnad) (0.1.0)\r\n"
     ]
    }
   ],
   "execution_count": 3
  },
  {
   "metadata": {
    "ExecuteTime": {
     "end_time": "2024-10-19T11:54:05.680414Z",
     "start_time": "2024-10-19T11:54:03.023445Z"
    }
   },
   "cell_type": "code",
   "source": [
    "import pandas as pd\n",
    "from sklearn import preprocessing\n",
    "import numpy as np\n",
    "from sklearn.model_selection import train_test_split\n",
    "\n",
    "import matplotlib.pyplot as plt\n",
    "import seaborn as sns\n",
    "\n",
    "from gnnad.graphanomaly import GNNAD\n",
    "from gnnad.generate import GenerateGaussian, GenerateAnomaly\n",
    "from gnnad.plot import plot_test_anomalies, plot_predictions, plot_sensor_error_scores"
   ],
   "id": "9b56905ac37582b5",
   "outputs": [],
   "execution_count": 4
  },
  {
   "metadata": {
    "ExecuteTime": {
     "end_time": "2024-10-19T11:54:05.693395Z",
     "start_time": "2024-10-19T11:54:05.691222Z"
    }
   },
   "cell_type": "code",
   "source": [
    "def normalise(X, scaler_fn):\n",
    "    scaler = scaler_fn.fit(X)\n",
    "    return pd.DataFrame(scaler.transform(X), index=X.index, columns = X.columns)"
   ],
   "id": "b66663b4914e4826",
   "outputs": [],
   "execution_count": 5
  },
  {
   "metadata": {
    "ExecuteTime": {
     "end_time": "2024-10-19T11:54:10.530998Z",
     "start_time": "2024-10-19T11:54:05.714905Z"
    }
   },
   "cell_type": "code",
   "source": [
    "data_k = pd.read_csv('combined.csv')\n",
    "data = data_k['pm25'] \n",
    "data"
   ],
   "id": "4b58baa8bf641674",
   "outputs": [
    {
     "data": {
      "text/plain": [
       "0          -0.410000\n",
       "1           5.957333\n",
       "2           3.992000\n",
       "3           5.494333\n",
       "4           3.536333\n",
       "             ...    \n",
       "7313989    20.570000\n",
       "7313990    25.900000\n",
       "7313991    25.660000\n",
       "7313992     2.860000\n",
       "7313993     2.660000\n",
       "Name: pm25, Length: 7313994, dtype: float64"
      ]
     },
     "execution_count": 6,
     "metadata": {},
     "output_type": "execute_result"
    }
   ],
   "execution_count": 6
  },
  {
   "metadata": {
    "ExecuteTime": {
     "end_time": "2024-10-19T11:54:16.639877Z",
     "start_time": "2024-10-19T11:54:10.630236Z"
    }
   },
   "cell_type": "code",
   "source": [
    "data = pd.read_csv('combined.csv')\n",
    "data.drop(columns=['timestamp'], inplace=True)\n",
    "data = pd.get_dummies(data, columns=['sensor'])\n",
    "data['sensor_a'] = data['sensor_a'].astype(np.float64)\n",
    "data['sensor_b'] = data['sensor_b'].astype(np.float64)\n",
    "data"
   ],
   "id": "12c5c8640c585455",
   "outputs": [
    {
     "data": {
      "text/plain": [
       "              pm10       pm25  pm25_avg_15  pm25_avg_60      pm100  sensor_a  \\\n",
       "0         3.803667  -0.410000     0.994667    -0.007333   4.110667       0.0   \n",
       "1         1.429000   5.957333     5.389000     5.360667   2.837000       0.0   \n",
       "2         0.281667   3.992000     3.621000     4.186667   0.912667       0.0   \n",
       "3         1.035000   5.494333     4.958667     5.533333   1.485333       0.0   \n",
       "4         1.080333   3.536333     3.338667     3.211000   1.911667       0.0   \n",
       "...            ...        ...          ...          ...        ...       ...   \n",
       "7313989  27.180000  20.570000    23.220000    21.100000  55.730000       0.0   \n",
       "7313990  31.070000  25.900000    28.940000    25.210000  61.380000       1.0   \n",
       "7313991  30.410000  25.660000    28.040000    24.280000  62.090000       0.0   \n",
       "7313992   4.170000   2.860000     3.120000     2.880000   4.840000       1.0   \n",
       "7313993   3.570000   2.660000     2.870000     2.700000   4.860000       0.0   \n",
       "\n",
       "         sensor_b  \n",
       "0             0.0  \n",
       "1             0.0  \n",
       "2             0.0  \n",
       "3             0.0  \n",
       "4             0.0  \n",
       "...           ...  \n",
       "7313989       1.0  \n",
       "7313990       0.0  \n",
       "7313991       1.0  \n",
       "7313992       0.0  \n",
       "7313993       1.0  \n",
       "\n",
       "[7313994 rows x 7 columns]"
      ],
      "text/html": [
       "<div>\n",
       "<style scoped>\n",
       "    .dataframe tbody tr th:only-of-type {\n",
       "        vertical-align: middle;\n",
       "    }\n",
       "\n",
       "    .dataframe tbody tr th {\n",
       "        vertical-align: top;\n",
       "    }\n",
       "\n",
       "    .dataframe thead th {\n",
       "        text-align: right;\n",
       "    }\n",
       "</style>\n",
       "<table border=\"1\" class=\"dataframe\">\n",
       "  <thead>\n",
       "    <tr style=\"text-align: right;\">\n",
       "      <th></th>\n",
       "      <th>pm10</th>\n",
       "      <th>pm25</th>\n",
       "      <th>pm25_avg_15</th>\n",
       "      <th>pm25_avg_60</th>\n",
       "      <th>pm100</th>\n",
       "      <th>sensor_a</th>\n",
       "      <th>sensor_b</th>\n",
       "    </tr>\n",
       "  </thead>\n",
       "  <tbody>\n",
       "    <tr>\n",
       "      <th>0</th>\n",
       "      <td>3.803667</td>\n",
       "      <td>-0.410000</td>\n",
       "      <td>0.994667</td>\n",
       "      <td>-0.007333</td>\n",
       "      <td>4.110667</td>\n",
       "      <td>0.0</td>\n",
       "      <td>0.0</td>\n",
       "    </tr>\n",
       "    <tr>\n",
       "      <th>1</th>\n",
       "      <td>1.429000</td>\n",
       "      <td>5.957333</td>\n",
       "      <td>5.389000</td>\n",
       "      <td>5.360667</td>\n",
       "      <td>2.837000</td>\n",
       "      <td>0.0</td>\n",
       "      <td>0.0</td>\n",
       "    </tr>\n",
       "    <tr>\n",
       "      <th>2</th>\n",
       "      <td>0.281667</td>\n",
       "      <td>3.992000</td>\n",
       "      <td>3.621000</td>\n",
       "      <td>4.186667</td>\n",
       "      <td>0.912667</td>\n",
       "      <td>0.0</td>\n",
       "      <td>0.0</td>\n",
       "    </tr>\n",
       "    <tr>\n",
       "      <th>3</th>\n",
       "      <td>1.035000</td>\n",
       "      <td>5.494333</td>\n",
       "      <td>4.958667</td>\n",
       "      <td>5.533333</td>\n",
       "      <td>1.485333</td>\n",
       "      <td>0.0</td>\n",
       "      <td>0.0</td>\n",
       "    </tr>\n",
       "    <tr>\n",
       "      <th>4</th>\n",
       "      <td>1.080333</td>\n",
       "      <td>3.536333</td>\n",
       "      <td>3.338667</td>\n",
       "      <td>3.211000</td>\n",
       "      <td>1.911667</td>\n",
       "      <td>0.0</td>\n",
       "      <td>0.0</td>\n",
       "    </tr>\n",
       "    <tr>\n",
       "      <th>...</th>\n",
       "      <td>...</td>\n",
       "      <td>...</td>\n",
       "      <td>...</td>\n",
       "      <td>...</td>\n",
       "      <td>...</td>\n",
       "      <td>...</td>\n",
       "      <td>...</td>\n",
       "    </tr>\n",
       "    <tr>\n",
       "      <th>7313989</th>\n",
       "      <td>27.180000</td>\n",
       "      <td>20.570000</td>\n",
       "      <td>23.220000</td>\n",
       "      <td>21.100000</td>\n",
       "      <td>55.730000</td>\n",
       "      <td>0.0</td>\n",
       "      <td>1.0</td>\n",
       "    </tr>\n",
       "    <tr>\n",
       "      <th>7313990</th>\n",
       "      <td>31.070000</td>\n",
       "      <td>25.900000</td>\n",
       "      <td>28.940000</td>\n",
       "      <td>25.210000</td>\n",
       "      <td>61.380000</td>\n",
       "      <td>1.0</td>\n",
       "      <td>0.0</td>\n",
       "    </tr>\n",
       "    <tr>\n",
       "      <th>7313991</th>\n",
       "      <td>30.410000</td>\n",
       "      <td>25.660000</td>\n",
       "      <td>28.040000</td>\n",
       "      <td>24.280000</td>\n",
       "      <td>62.090000</td>\n",
       "      <td>0.0</td>\n",
       "      <td>1.0</td>\n",
       "    </tr>\n",
       "    <tr>\n",
       "      <th>7313992</th>\n",
       "      <td>4.170000</td>\n",
       "      <td>2.860000</td>\n",
       "      <td>3.120000</td>\n",
       "      <td>2.880000</td>\n",
       "      <td>4.840000</td>\n",
       "      <td>1.0</td>\n",
       "      <td>0.0</td>\n",
       "    </tr>\n",
       "    <tr>\n",
       "      <th>7313993</th>\n",
       "      <td>3.570000</td>\n",
       "      <td>2.660000</td>\n",
       "      <td>2.870000</td>\n",
       "      <td>2.700000</td>\n",
       "      <td>4.860000</td>\n",
       "      <td>0.0</td>\n",
       "      <td>1.0</td>\n",
       "    </tr>\n",
       "  </tbody>\n",
       "</table>\n",
       "<p>7313994 rows × 7 columns</p>\n",
       "</div>"
      ]
     },
     "execution_count": 7,
     "metadata": {},
     "output_type": "execute_result"
    }
   ],
   "execution_count": 7
  },
  {
   "metadata": {
    "ExecuteTime": {
     "end_time": "2024-10-19T11:54:16.716986Z",
     "start_time": "2024-10-19T11:54:16.671743Z"
    }
   },
   "cell_type": "code",
   "source": "data['pm10'].unique()",
   "id": "201d68a91ce85593",
   "outputs": [
    {
     "data": {
      "text/plain": [
       "array([ 3.80366667,  1.429     ,  0.28166667, ..., 29.53233333,\n",
       "       21.644     , 31.42966667])"
      ]
     },
     "execution_count": 8,
     "metadata": {},
     "output_type": "execute_result"
    }
   ],
   "execution_count": 8
  },
  {
   "metadata": {
    "ExecuteTime": {
     "end_time": "2024-10-19T11:54:16.883600Z",
     "start_time": "2024-10-19T11:54:16.834224Z"
    }
   },
   "cell_type": "code",
   "source": "data['pm100'].unique()",
   "id": "aafcc2bf5434069e",
   "outputs": [
    {
     "data": {
      "text/plain": [
       "array([ 4.11066667,  2.837     ,  0.91266667, ..., 34.87766667,\n",
       "       54.86733333, 62.543     ])"
      ]
     },
     "execution_count": 9,
     "metadata": {},
     "output_type": "execute_result"
    }
   ],
   "execution_count": 9
  },
  {
   "metadata": {
    "ExecuteTime": {
     "end_time": "2024-10-19T11:54:18.876791Z",
     "start_time": "2024-10-19T11:54:16.990844Z"
    }
   },
   "cell_type": "code",
   "source": [
    "plt.figure(figsize=(10, 8))\n",
    "sns.heatmap(data.corr(), annot=True, cmap='viridis')\n",
    "\n",
    "plt.show()"
   ],
   "id": "40592b371fca3db2",
   "outputs": [
    {
     "data": {
      "text/plain": [
       "<Figure size 1000x800 with 2 Axes>"
      ],
      "image/png": "[encoded data removed]"
     },
     "metadata": {},
     "output_type": "display_data"
    }
   ],
   "execution_count": 10
  },
  {
   "metadata": {
    "ExecuteTime": {
     "end_time": "2024-10-19T11:57:37.207010Z",
     "start_time": "2024-10-19T11:57:37.198103Z"
    }
   },
   "cell_type": "code",
   "source": [
    "# index'i integer tipine dönüştürme\n",
    "data.index = data.index.astype('int64')"
   ],
   "id": "bb11b089566c556b",
   "outputs": [],
   "execution_count": 11
  },
  {
   "metadata": {
    "ExecuteTime": {
     "end_time": "2024-10-19T11:57:38.056221Z",
     "start_time": "2024-10-19T11:57:38.043134Z"
    }
   },
   "cell_type": "code",
   "source": [
    "new_columns = pd.Int64Index(range(len(data.columns)))\n",
    "data.columns = new_columns\n",
    "data"
   ],
   "id": "6f07e0f6598e6371",
   "outputs": [
    {
     "name": "stderr",
     "output_type": "stream",
     "text": [
      "/var/folders/vr/11d0bknx2ms1fxq4p99sr8tc0000gn/T/ipykernel_24150/3672452830.py:1: FutureWarning: pandas.Int64Index is deprecated and will be removed from pandas in a future version. Use pandas.Index with the appropriate dtype instead.\n",
      "  new_columns = pd.Int64Index(range(len(data.columns)))\n"
     ]
    },
    {
     "data": {
      "text/plain": [
       "                 0          1          2          3          4    5    6\n",
       "0         3.803667  -0.410000   0.994667  -0.007333   4.110667  0.0  0.0\n",
       "1         1.429000   5.957333   5.389000   5.360667   2.837000  0.0  0.0\n",
       "2         0.281667   3.992000   3.621000   4.186667   0.912667  0.0  0.0\n",
       "3         1.035000   5.494333   4.958667   5.533333   1.485333  0.0  0.0\n",
       "4         1.080333   3.536333   3.338667   3.211000   1.911667  0.0  0.0\n",
       "...            ...        ...        ...        ...        ...  ...  ...\n",
       "7313989  27.180000  20.570000  23.220000  21.100000  55.730000  0.0  1.0\n",
       "7313990  31.070000  25.900000  28.940000  25.210000  61.380000  1.0  0.0\n",
       "7313991  30.410000  25.660000  28.040000  24.280000  62.090000  0.0  1.0\n",
       "7313992   4.170000   2.860000   3.120000   2.880000   4.840000  1.0  0.0\n",
       "7313993   3.570000   2.660000   2.870000   2.700000   4.860000  0.0  1.0\n",
       "\n",
       "[7313994 rows x 7 columns]"
      ],
      "text/html": [
       "<div>\n",
       "<style scoped>\n",
       "    .dataframe tbody tr th:only-of-type {\n",
       "        vertical-align: middle;\n",
       "    }\n",
       "\n",
       "    .dataframe tbody tr th {\n",
       "        vertical-align: top;\n",
       "    }\n",
       "\n",
       "    .dataframe thead th {\n",
       "        text-align: right;\n",
       "    }\n",
       "</style>\n",
       "<table border=\"1\" class=\"dataframe\">\n",
       "  <thead>\n",
       "    <tr style=\"text-align: right;\">\n",
       "      <th></th>\n",
       "      <th>0</th>\n",
       "      <th>1</th>\n",
       "      <th>2</th>\n",
       "      <th>3</th>\n",
       "      <th>4</th>\n",
       "      <th>5</th>\n",
       "      <th>6</th>\n",
       "    </tr>\n",
       "  </thead>\n",
       "  <tbody>\n",
       "    <tr>\n",
       "      <th>0</th>\n",
       "      <td>3.803667</td>\n",
       "      <td>-0.410000</td>\n",
       "      <td>0.994667</td>\n",
       "      <td>-0.007333</td>\n",
       "      <td>4.110667</td>\n",
       "      <td>0.0</td>\n",
       "      <td>0.0</td>\n",
       "    </tr>\n",
       "    <tr>\n",
       "      <th>1</th>\n",
       "      <td>1.429000</td>\n",
       "      <td>5.957333</td>\n",
       "      <td>5.389000</td>\n",
       "      <td>5.360667</td>\n",
       "      <td>2.837000</td>\n",
       "      <td>0.0</td>\n",
       "      <td>0.0</td>\n",
       "    </tr>\n",
       "    <tr>\n",
       "      <th>2</th>\n",
       "      <td>0.281667</td>\n",
       "      <td>3.992000</td>\n",
       "      <td>3.621000</td>\n",
       "      <td>4.186667</td>\n",
       "      <td>0.912667</td>\n",
       "      <td>0.0</td>\n",
       "      <td>0.0</td>\n",
       "    </tr>\n",
       "    <tr>\n",
       "      <th>3</th>\n",
       "      <td>1.035000</td>\n",
       "      <td>5.494333</td>\n",
       "      <td>4.958667</td>\n",
       "      <td>5.533333</td>\n",
       "      <td>1.485333</td>\n",
       "      <td>0.0</td>\n",
       "      <td>0.0</td>\n",
       "    </tr>\n",
       "    <tr>\n",
       "      <th>4</th>\n",
       "      <td>1.080333</td>\n",
       "      <td>3.536333</td>\n",
       "      <td>3.338667</td>\n",
       "      <td>3.211000</td>\n",
       "      <td>1.911667</td>\n",
       "      <td>0.0</td>\n",
       "      <td>0.0</td>\n",
       "    </tr>\n",
       "    <tr>\n",
       "      <th>...</th>\n",
       "      <td>...</td>\n",
       "      <td>...</td>\n",
       "      <td>...</td>\n",
       "      <td>...</td>\n",
       "      <td>...</td>\n",
       "      <td>...</td>\n",
       "      <td>...</td>\n",
       "    </tr>\n",
       "    <tr>\n",
       "      <th>7313989</th>\n",
       "      <td>27.180000</td>\n",
       "      <td>20.570000</td>\n",
       "      <td>23.220000</td>\n",
       "      <td>21.100000</td>\n",
       "      <td>55.730000</td>\n",
       "      <td>0.0</td>\n",
       "      <td>1.0</td>\n",
       "    </tr>\n",
       "    <tr>\n",
       "      <th>7313990</th>\n",
       "      <td>31.070000</td>\n",
       "      <td>25.900000</td>\n",
       "      <td>28.940000</td>\n",
       "      <td>25.210000</td>\n",
       "      <td>61.380000</td>\n",
       "      <td>1.0</td>\n",
       "      <td>0.0</td>\n",
       "    </tr>\n",
       "    <tr>\n",
       "      <th>7313991</th>\n",
       "      <td>30.410000</td>\n",
       "      <td>25.660000</td>\n",
       "      <td>28.040000</td>\n",
       "      <td>24.280000</td>\n",
       "      <td>62.090000</td>\n",
       "      <td>0.0</td>\n",
       "      <td>1.0</td>\n",
       "    </tr>\n",
       "    <tr>\n",
       "      <th>7313992</th>\n",
       "      <td>4.170000</td>\n",
       "      <td>2.860000</td>\n",
       "      <td>3.120000</td>\n",
       "      <td>2.880000</td>\n",
       "      <td>4.840000</td>\n",
       "      <td>1.0</td>\n",
       "      <td>0.0</td>\n",
       "    </tr>\n",
       "    <tr>\n",
       "      <th>7313993</th>\n",
       "      <td>3.570000</td>\n",
       "      <td>2.660000</td>\n",
       "      <td>2.870000</td>\n",
       "      <td>2.700000</td>\n",
       "      <td>4.860000</td>\n",
       "      <td>0.0</td>\n",
       "      <td>1.0</td>\n",
       "    </tr>\n",
       "  </tbody>\n",
       "</table>\n",
       "<p>7313994 rows × 7 columns</p>\n",
       "</div>"
      ]
     },
     "execution_count": 12,
     "metadata": {},
     "output_type": "execute_result"
    }
   ],
   "execution_count": 12
  },
  {
   "metadata": {
    "ExecuteTime": {
     "end_time": "2024-10-19T11:57:38.862712Z",
     "start_time": "2024-10-19T11:57:38.843440Z"
    }
   },
   "cell_type": "code",
   "source": [
    "# Kolonları sıfırdan itibaren numaralandırma\n",
    "new_columns = list(range(len(data.columns)))\n",
    "data.columns = new_columns\n",
    "\n",
    "# DataFrame'i göster\n",
    "data"
   ],
   "id": "68123dbebfdc56e2",
   "outputs": [
    {
     "data": {
      "text/plain": [
       "                 0          1          2          3          4    5    6\n",
       "0         3.803667  -0.410000   0.994667  -0.007333   4.110667  0.0  0.0\n",
       "1         1.429000   5.957333   5.389000   5.360667   2.837000  0.0  0.0\n",
       "2         0.281667   3.992000   3.621000   4.186667   0.912667  0.0  0.0\n",
       "3         1.035000   5.494333   4.958667   5.533333   1.485333  0.0  0.0\n",
       "4         1.080333   3.536333   3.338667   3.211000   1.911667  0.0  0.0\n",
       "...            ...        ...        ...        ...        ...  ...  ...\n",
       "7313989  27.180000  20.570000  23.220000  21.100000  55.730000  0.0  1.0\n",
       "7313990  31.070000  25.900000  28.940000  25.210000  61.380000  1.0  0.0\n",
       "7313991  30.410000  25.660000  28.040000  24.280000  62.090000  0.0  1.0\n",
       "7313992   4.170000   2.860000   3.120000   2.880000   4.840000  1.0  0.0\n",
       "7313993   3.570000   2.660000   2.870000   2.700000   4.860000  0.0  1.0\n",
       "\n",
       "[7313994 rows x 7 columns]"
      ],
      "text/html": [
       "<div>\n",
       "<style scoped>\n",
       "    .dataframe tbody tr th:only-of-type {\n",
       "        vertical-align: middle;\n",
       "    }\n",
       "\n",
       "    .dataframe tbody tr th {\n",
       "        vertical-align: top;\n",
       "    }\n",
       "\n",
       "    .dataframe thead th {\n",
       "        text-align: right;\n",
       "    }\n",
       "</style>\n",
       "<table border=\"1\" class=\"dataframe\">\n",
       "  <thead>\n",
       "    <tr style=\"text-align: right;\">\n",
       "      <th></th>\n",
       "      <th>0</th>\n",
       "      <th>1</th>\n",
       "      <th>2</th>\n",
       "      <th>3</th>\n",
       "      <th>4</th>\n",
       "      <th>5</th>\n",
       "      <th>6</th>\n",
       "    </tr>\n",
       "  </thead>\n",
       "  <tbody>\n",
       "    <tr>\n",
       "      <th>0</th>\n",
       "      <td>3.803667</td>\n",
       "      <td>-0.410000</td>\n",
       "      <td>0.994667</td>\n",
       "      <td>-0.007333</td>\n",
       "      <td>4.110667</td>\n",
       "      <td>0.0</td>\n",
       "      <td>0.0</td>\n",
       "    </tr>\n",
       "    <tr>\n",
       "      <th>1</th>\n",
       "      <td>1.429000</td>\n",
       "      <td>5.957333</td>\n",
       "      <td>5.389000</td>\n",
       "      <td>5.360667</td>\n",
       "      <td>2.837000</td>\n",
       "      <td>0.0</td>\n",
       "      <td>0.0</td>\n",
       "    </tr>\n",
       "    <tr>\n",
       "      <th>2</th>\n",
       "      <td>0.281667</td>\n",
       "      <td>3.992000</td>\n",
       "      <td>3.621000</td>\n",
       "      <td>4.186667</td>\n",
       "      <td>0.912667</td>\n",
       "      <td>0.0</td>\n",
       "      <td>0.0</td>\n",
       "    </tr>\n",
       "    <tr>\n",
       "      <th>3</th>\n",
       "      <td>1.035000</td>\n",
       "      <td>5.494333</td>\n",
       "      <td>4.958667</td>\n",
       "      <td>5.533333</td>\n",
       "      <td>1.485333</td>\n",
       "      <td>0.0</td>\n",
       "      <td>0.0</td>\n",
       "    </tr>\n",
       "    <tr>\n",
       "      <th>4</th>\n",
       "      <td>1.080333</td>\n",
       "      <td>3.536333</td>\n",
       "      <td>3.338667</td>\n",
       "      <td>3.211000</td>\n",
       "      <td>1.911667</td>\n",
       "      <td>0.0</td>\n",
       "      <td>0.0</td>\n",
       "    </tr>\n",
       "    <tr>\n",
       "      <th>...</th>\n",
       "      <td>...</td>\n",
       "      <td>...</td>\n",
       "      <td>...</td>\n",
       "      <td>...</td>\n",
       "      <td>...</td>\n",
       "      <td>...</td>\n",
       "      <td>...</td>\n",
       "    </tr>\n",
       "    <tr>\n",
       "      <th>7313989</th>\n",
       "      <td>27.180000</td>\n",
       "      <td>20.570000</td>\n",
       "      <td>23.220000</td>\n",
       "      <td>21.100000</td>\n",
       "      <td>55.730000</td>\n",
       "      <td>0.0</td>\n",
       "      <td>1.0</td>\n",
       "    </tr>\n",
       "    <tr>\n",
       "      <th>7313990</th>\n",
       "      <td>31.070000</td>\n",
       "      <td>25.900000</td>\n",
       "      <td>28.940000</td>\n",
       "      <td>25.210000</td>\n",
       "      <td>61.380000</td>\n",
       "      <td>1.0</td>\n",
       "      <td>0.0</td>\n",
       "    </tr>\n",
       "    <tr>\n",
       "      <th>7313991</th>\n",
       "      <td>30.410000</td>\n",
       "      <td>25.660000</td>\n",
       "      <td>28.040000</td>\n",
       "      <td>24.280000</td>\n",
       "      <td>62.090000</td>\n",
       "      <td>0.0</td>\n",
       "      <td>1.0</td>\n",
       "    </tr>\n",
       "    <tr>\n",
       "      <th>7313992</th>\n",
       "      <td>4.170000</td>\n",
       "      <td>2.860000</td>\n",
       "      <td>3.120000</td>\n",
       "      <td>2.880000</td>\n",
       "      <td>4.840000</td>\n",
       "      <td>1.0</td>\n",
       "      <td>0.0</td>\n",
       "    </tr>\n",
       "    <tr>\n",
       "      <th>7313993</th>\n",
       "      <td>3.570000</td>\n",
       "      <td>2.660000</td>\n",
       "      <td>2.870000</td>\n",
       "      <td>2.700000</td>\n",
       "      <td>4.860000</td>\n",
       "      <td>0.0</td>\n",
       "      <td>1.0</td>\n",
       "    </tr>\n",
       "  </tbody>\n",
       "</table>\n",
       "<p>7313994 rows × 7 columns</p>\n",
       "</div>"
      ]
     },
     "execution_count": 13,
     "metadata": {},
     "output_type": "execute_result"
    }
   ],
   "execution_count": 13
  },
  {
   "metadata": {
    "ExecuteTime": {
     "end_time": "2024-10-19T11:57:39.575492Z",
     "start_time": "2024-10-19T11:57:39.568343Z"
    }
   },
   "cell_type": "code",
   "source": "data.index",
   "id": "de8d5defbbd76cff",
   "outputs": [
    {
     "data": {
      "text/plain": [
       "RangeIndex(start=0, stop=7313994, step=1)"
      ]
     },
     "execution_count": 14,
     "metadata": {},
     "output_type": "execute_result"
    }
   ],
   "execution_count": 14
  },
  {
   "metadata": {
    "ExecuteTime": {
     "end_time": "2024-10-19T11:57:39.887077Z",
     "start_time": "2024-10-19T11:57:39.882028Z"
    }
   },
   "cell_type": "code",
   "source": "data.columns",
   "id": "4385e0c263812347",
   "outputs": [
    {
     "data": {
      "text/plain": [
       "Int64Index([0, 1, 2, 3, 4, 5, 6], dtype='int64')"
      ]
     },
     "execution_count": 15,
     "metadata": {},
     "output_type": "execute_result"
    }
   ],
   "execution_count": 15
  },
  {
   "metadata": {
    "ExecuteTime": {
     "end_time": "2024-10-19T11:57:41.865805Z",
     "start_time": "2024-10-19T11:57:40.563647Z"
    }
   },
   "cell_type": "code",
   "source": "X_train, X_test = train_test_split(data, test_size=0.3, random_state=42)",
   "id": "bee8d14746f41478",
   "outputs": [],
   "execution_count": 16
  },
  {
   "metadata": {
    "ExecuteTime": {
     "end_time": "2024-10-19T11:57:42.792322Z",
     "start_time": "2024-10-19T11:57:42.594737Z"
    }
   },
   "cell_type": "code",
   "source": [
    "X_train = X_train.reset_index(drop=True)\n",
    "X_test = X_test.reset_index(drop=True)"
   ],
   "id": "4e183c337c796a03",
   "outputs": [],
   "execution_count": 17
  },
  {
   "metadata": {
    "ExecuteTime": {
     "end_time": "2024-10-19T11:57:43.755344Z",
     "start_time": "2024-10-19T11:57:43.752057Z"
    }
   },
   "cell_type": "code",
   "source": "anoms = GenerateAnomaly(X_test)",
   "id": "19ee29c8acb4913b",
   "outputs": [],
   "execution_count": 18
  },
  {
   "metadata": {
    "ExecuteTime": {
     "end_time": "2024-10-19T11:57:51.184137Z",
     "start_time": "2024-10-19T11:57:44.708615Z"
    }
   },
   "cell_type": "code",
   "source": "X_test = anoms.generate(anoms.variability)",
   "id": "4eb9a1109694e34e",
   "outputs": [],
   "execution_count": 19
  },
  {
   "metadata": {
    "ExecuteTime": {
     "end_time": "2024-10-19T11:57:52.108178Z",
     "start_time": "2024-10-19T11:57:52.098143Z"
    }
   },
   "cell_type": "code",
   "source": "X_test",
   "id": "69a6da84373c1d4c",
   "outputs": [
    {
     "data": {
      "text/plain": [
       "             0      1      2      3      4    5    6\n",
       "0        36.05  34.14  37.30  34.96  74.96  0.0  1.0\n",
       "1         9.63   7.53   8.57   8.72  11.32  1.0  0.0\n",
       "2        14.68  12.96  14.76  15.66  25.93  0.0  1.0\n",
       "3        31.57  30.24  33.29  36.45  60.38  1.0  0.0\n",
       "4         1.04   1.11   0.90   0.71   2.11  1.0  0.0\n",
       "...        ...    ...    ...    ...    ...  ...  ...\n",
       "2194194  32.22  27.93  31.91  30.24  61.02  1.0  0.0\n",
       "2194195  22.82  22.30  23.52  22.99  36.74  1.0  0.0\n",
       "2194196   9.42   7.75   9.27   8.49  16.26  0.0  1.0\n",
       "2194197   4.88   5.09   5.07   5.17   8.07  0.0  1.0\n",
       "2194198  49.18  54.02  57.18  55.82  78.52  1.0  0.0\n",
       "\n",
       "[2194199 rows x 7 columns]"
      ],
      "text/html": [
       "<div>\n",
       "<style scoped>\n",
       "    .dataframe tbody tr th:only-of-type {\n",
       "        vertical-align: middle;\n",
       "    }\n",
       "\n",
       "    .dataframe tbody tr th {\n",
       "        vertical-align: top;\n",
       "    }\n",
       "\n",
       "    .dataframe thead th {\n",
       "        text-align: right;\n",
       "    }\n",
       "</style>\n",
       "<table border=\"1\" class=\"dataframe\">\n",
       "  <thead>\n",
       "    <tr style=\"text-align: right;\">\n",
       "      <th></th>\n",
       "      <th>0</th>\n",
       "      <th>1</th>\n",
       "      <th>2</th>\n",
       "      <th>3</th>\n",
       "      <th>4</th>\n",
       "      <th>5</th>\n",
       "      <th>6</th>\n",
       "    </tr>\n",
       "  </thead>\n",
       "  <tbody>\n",
       "    <tr>\n",
       "      <th>0</th>\n",
       "      <td>36.05</td>\n",
       "      <td>34.14</td>\n",
       "      <td>37.30</td>\n",
       "      <td>34.96</td>\n",
       "      <td>74.96</td>\n",
       "      <td>0.0</td>\n",
       "      <td>1.0</td>\n",
       "    </tr>\n",
       "    <tr>\n",
       "      <th>1</th>\n",
       "      <td>9.63</td>\n",
       "      <td>7.53</td>\n",
       "      <td>8.57</td>\n",
       "      <td>8.72</td>\n",
       "      <td>11.32</td>\n",
       "      <td>1.0</td>\n",
       "      <td>0.0</td>\n",
       "    </tr>\n",
       "    <tr>\n",
       "      <th>2</th>\n",
       "      <td>14.68</td>\n",
       "      <td>12.96</td>\n",
       "      <td>14.76</td>\n",
       "      <td>15.66</td>\n",
       "      <td>25.93</td>\n",
       "      <td>0.0</td>\n",
       "      <td>1.0</td>\n",
       "    </tr>\n",
       "    <tr>\n",
       "      <th>3</th>\n",
       "      <td>31.57</td>\n",
       "      <td>30.24</td>\n",
       "      <td>33.29</td>\n",
       "      <td>36.45</td>\n",
       "      <td>60.38</td>\n",
       "      <td>1.0</td>\n",
       "      <td>0.0</td>\n",
       "    </tr>\n",
       "    <tr>\n",
       "      <th>4</th>\n",
       "      <td>1.04</td>\n",
       "      <td>1.11</td>\n",
       "      <td>0.90</td>\n",
       "      <td>0.71</td>\n",
       "      <td>2.11</td>\n",
       "      <td>1.0</td>\n",
       "      <td>0.0</td>\n",
       "    </tr>\n",
       "    <tr>\n",
       "      <th>...</th>\n",
       "      <td>...</td>\n",
       "      <td>...</td>\n",
       "      <td>...</td>\n",
       "      <td>...</td>\n",
       "      <td>...</td>\n",
       "      <td>...</td>\n",
       "      <td>...</td>\n",
       "    </tr>\n",
       "    <tr>\n",
       "      <th>2194194</th>\n",
       "      <td>32.22</td>\n",
       "      <td>27.93</td>\n",
       "      <td>31.91</td>\n",
       "      <td>30.24</td>\n",
       "      <td>61.02</td>\n",
       "      <td>1.0</td>\n",
       "      <td>0.0</td>\n",
       "    </tr>\n",
       "    <tr>\n",
       "      <th>2194195</th>\n",
       "      <td>22.82</td>\n",
       "      <td>22.30</td>\n",
       "      <td>23.52</td>\n",
       "      <td>22.99</td>\n",
       "      <td>36.74</td>\n",
       "      <td>1.0</td>\n",
       "      <td>0.0</td>\n",
       "    </tr>\n",
       "    <tr>\n",
       "      <th>2194196</th>\n",
       "      <td>9.42</td>\n",
       "      <td>7.75</td>\n",
       "      <td>9.27</td>\n",
       "      <td>8.49</td>\n",
       "      <td>16.26</td>\n",
       "      <td>0.0</td>\n",
       "      <td>1.0</td>\n",
       "    </tr>\n",
       "    <tr>\n",
       "      <th>2194197</th>\n",
       "      <td>4.88</td>\n",
       "      <td>5.09</td>\n",
       "      <td>5.07</td>\n",
       "      <td>5.17</td>\n",
       "      <td>8.07</td>\n",
       "      <td>0.0</td>\n",
       "      <td>1.0</td>\n",
       "    </tr>\n",
       "    <tr>\n",
       "      <th>2194198</th>\n",
       "      <td>49.18</td>\n",
       "      <td>54.02</td>\n",
       "      <td>57.18</td>\n",
       "      <td>55.82</td>\n",
       "      <td>78.52</td>\n",
       "      <td>1.0</td>\n",
       "      <td>0.0</td>\n",
       "    </tr>\n",
       "  </tbody>\n",
       "</table>\n",
       "<p>2194199 rows × 7 columns</p>\n",
       "</div>"
      ]
     },
     "execution_count": 20,
     "metadata": {},
     "output_type": "execute_result"
    }
   ],
   "execution_count": 20
  },
  {
   "metadata": {
    "ExecuteTime": {
     "end_time": "2024-10-19T11:57:53.078610Z",
     "start_time": "2024-10-19T11:57:53.046760Z"
    }
   },
   "cell_type": "code",
   "source": "y_test = anoms.get_labels()",
   "id": "d1f260657604ca12",
   "outputs": [],
   "execution_count": 21
  },
  {
   "metadata": {
    "ExecuteTime": {
     "end_time": "2024-10-19T11:57:54.043760Z",
     "start_time": "2024-10-19T11:57:54.038704Z"
    }
   },
   "cell_type": "code",
   "source": "y_test",
   "id": "d641da2aea66da1d",
   "outputs": [
    {
     "data": {
      "text/plain": [
       "array([0, 0, 0, ..., 0, 0, 0])"
      ]
     },
     "execution_count": 22,
     "metadata": {},
     "output_type": "execute_result"
    }
   ],
   "execution_count": 22
  },
  {
   "metadata": {
    "ExecuteTime": {
     "end_time": "2024-10-19T11:57:55.310867Z",
     "start_time": "2024-10-19T11:57:55.293354Z"
    }
   },
   "cell_type": "code",
   "source": [
    "value_counts = pd.Series(y_test).value_counts()\n",
    "\n",
    "print(value_counts)"
   ],
   "id": "ecba951468ae5f98",
   "outputs": [
    {
     "name": "stdout",
     "output_type": "stream",
     "text": [
      "0    1997939\n",
      "1     196260\n",
      "dtype: int64\n"
     ]
    }
   ],
   "execution_count": 23
  },
  {
   "metadata": {
    "ExecuteTime": {
     "end_time": "2024-10-19T11:58:06.366884Z",
     "start_time": "2024-10-19T11:57:59.383924Z"
    }
   },
   "cell_type": "code",
   "source": [
    "from imblearn.over_sampling import SMOTE\n",
    "smote = SMOTE(random_state=42)\n",
    "X_test, y_test = smote.fit_resample(X_test, y_test)"
   ],
   "id": "191d91940a4a4a34",
   "outputs": [],
   "execution_count": 24
  },
  {
   "metadata": {
    "ExecuteTime": {
     "end_time": "2024-10-19T11:58:07.348237Z",
     "start_time": "2024-10-19T11:58:07.325446Z"
    }
   },
   "cell_type": "code",
   "source": [
    "value_counts = pd.Series(y_test).value_counts()\n",
    "\n",
    "print(value_counts)"
   ],
   "id": "447dc7ee242f1c98",
   "outputs": [
    {
     "name": "stdout",
     "output_type": "stream",
     "text": [
      "0    1997939\n",
      "1    1997939\n",
      "dtype: int64\n"
     ]
    }
   ],
   "execution_count": 25
  },
  {
   "metadata": {
    "ExecuteTime": {
     "end_time": "2024-10-19T11:58:09.140823Z",
     "start_time": "2024-10-19T11:58:08.394805Z"
    }
   },
   "cell_type": "code",
   "source": [
    "# normalise\n",
    "X_test = normalise(X_test, preprocessing.StandardScaler())\n",
    "X_train = normalise(X_train, preprocessing.StandardScaler())"
   ],
   "id": "b9154d1551ae64d6",
   "outputs": [],
   "execution_count": 26
  },
  {
   "metadata": {
    "ExecuteTime": {
     "end_time": "2024-10-19T11:58:10.087256Z",
     "start_time": "2024-10-19T11:58:10.084332Z"
    }
   },
   "cell_type": "code",
   "source": [
    "# # create ANOOMS dict for plotting\n",
    "# ANOMS = {'type1': {}}\n",
    "\n",
    "# X_test_anoms = y_test.iloc[:,8:]\n",
    "\n",
    "# for i in range(len(X_test_anoms.columns)):\n",
    "#     anom_col_name = X_test_anoms.columns[i]\n",
    "#     sensor_col_name = X_test.columns[i]\n",
    "#     anom_idxs = X_test_anoms[anom_col_name][X_test_anoms[anom_col_name]].index\n",
    "\n",
    "#     if len(anom_idxs) > 0:\n",
    "#         ANOMS['type1'][sensor_col_name] = anom_idxs"
   ],
   "id": "5bceb2dc4b745778",
   "outputs": [],
   "execution_count": 27
  },
  {
   "metadata": {
    "ExecuteTime": {
     "end_time": "2024-10-19T11:58:10.909896Z",
     "start_time": "2024-10-19T11:58:10.906466Z"
    }
   },
   "cell_type": "code",
   "source": [
    "# # plot input data\n",
    "# plot_test_anomalies(X_test, ANOMS)"
   ],
   "id": "ac1730c9fe2a82f",
   "outputs": [],
   "execution_count": 28
  },
  {
   "metadata": {
    "jupyter": {
     "is_executing": true
    },
    "ExecuteTime": {
     "start_time": "2024-10-19T11:58:11.537784Z"
    }
   },
   "cell_type": "code",
   "source": [
    "# run model\n",
    "model = GNNAD(threshold_type=\"max_validation\",\n",
    "              topk=6, \n",
    "              slide_win=300, \n",
    "              early_stop_win=200)\n",
    "fitted_model = model.fit(X_train,\n",
    "                         X_test,\n",
    "                         y_test)"
   ],
   "id": "d1f83be7258549fc",
   "outputs": [],
   "execution_count": null
  },
  {
   "metadata": {},
   "cell_type": "code",
   "outputs": [],
   "execution_count": null,
   "source": [
    "# model summary\n",
    "fitted_model.summary()"
   ],
   "id": "c7b4070b59dc1056"
  },
  {
   "metadata": {},
   "cell_type": "code",
   "outputs": [],
   "execution_count": null,
   "source": [
    "# GDN+, sensor thresholds\n",
    "preds = fitted_model.sensor_threshold_preds(tau = 99)\n",
    "fitted_model.print_eval_metrics(preds)"
   ],
   "id": "39ce8960ca6dbb1b"
  },
  {
   "metadata": {},
   "cell_type": "code",
   "outputs": [],
   "execution_count": null,
   "source": [
    "# plot predictions\n",
    "# plot_predictions(fitted_model, X_test, ANOMS, preds = preds, figsize=(20, 20))"
   ],
   "id": "26571b78c6f19592"
  },
  {
   "metadata": {},
   "cell_type": "code",
   "outputs": [],
   "source": "",
   "id": "5af4fbabfbc0af87",
   "execution_count": null
  },
  {
   "metadata": {},
   "cell_type": "code",
   "outputs": [],
   "source": "",
   "id": "1c273d66517bc640",
   "execution_count": null
  },
  {
   "metadata": {},
   "cell_type": "code",
   "outputs": [],
   "source": "",
   "id": "fb5dc802fceb9143",
   "execution_count": null
  },
  {
   "metadata": {},
   "cell_type": "code",
   "outputs": [],
   "source": "",
   "id": "b2fec5206063b90e",
   "execution_count": null
  }
 ],
 "metadata": {
  "kernelspec": {
   "display_name": "Python 3",
   "language": "python",
   "name": "python3"
  },
  "language_info": {
   "codemirror_mode": {
    "name": "ipython",
    "version": 2
   },
   "file_extension": ".py",
   "mimetype": "text/x-python",
   "name": "python",
   "nbconvert_exporter": "python",
   "pygments_lexer": "ipython2",
   "version": "2.7.6"
  }
 },
 "nbformat": 4,
 "nbformat_minor": 5
}
