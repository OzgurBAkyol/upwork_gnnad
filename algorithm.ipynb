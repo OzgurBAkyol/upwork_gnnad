{
 "cells": [
  {
   "cell_type": "code",
   "execution_count": null,
   "id": "initial_id",
   "metadata": {
    "collapsed": true
   },
   "outputs": [],
   "source": [
    "def pertubate(self):\n",
    "    # Başlangıç ayarları\n",
    "    accus, mafs = list(), list()  # Her epsilon için doğruluk ve macro F1 skorlarını saklayacak listeler\n",
    "    epsilon_values = np.linspace(0, 0.1, 15)  # Epsilon değerleri (0'dan 0.1'e kadar 15 adımda)"
   ]
  },
  {
   "metadata": {},
   "cell_type": "code",
   "outputs": [],
   "execution_count": null,
   "source": [
    "    # Epsilon değerleri üzerinde döngü başlat\n",
    "    for epsilon in tqdm.tqdm(epsilon_values):\n",
    "        prediction_ = []\n",
    "        real_ = []"
   ],
   "id": "7ee7664222b3c1aa"
  },
  {
   "metadata": {},
   "cell_type": "code",
   "outputs": [],
   "execution_count": null,
   "source": [
    "        # Test veri kümesi üzerinde döngü\n",
    "        for data, label in self.test:\n",
    "            # Giriş verilerini GPU'ya aktar (mevcutsa) ve label verisini sakla\n",
    "            data = data.cuda() if tr.cuda.is_available() else data\n",
    "            label = label.cuda() if tr.cuda.is_available() else label\n",
    "            real_.append(label)"
   ],
   "id": "661d9114e973442c"
  },
  {
   "metadata": {},
   "cell_type": "code",
   "outputs": [],
   "execution_count": null,
   "source": [
    "            if epsilon != 0:\n",
    "                data.requires_grad = True  # Gradyan hesaplamak için giriş verisini aktif hale getir\n",
    "                \n",
    "                # Tahmin yap ve kaybı hesapla\n",
    "                prediction = self.net(data)\n",
    "                loss = self.loss_function(prediction, label)\n",
    "                loss.backward()  # Geriye doğru yayılım ile gradyanı hesapla\n",
    "\n",
    "                # Sonsuz norm için pertürbasyon hesapla\n",
    "                perturbation = epsilon * data.grad.data.sign()\n",
    "                \n",
    "                # Veriyi pertürbasyon ile boz\n",
    "                x_adv = tr.clamp(data + perturbation, -1, 1)\n",
    "            else:\n",
    "                x_adv = data  # Epsilon sıfırsa, orijinal veriyi kullan"
   ],
   "id": "c5d7d248d317716"
  },
  {
   "metadata": {},
   "cell_type": "code",
   "outputs": [],
   "execution_count": null,
   "source": [
    "            # Pertürbasyon uygulanmış veri ile tahmin yap\n",
    "            prediction = self.net(x_adv)\n",
    "            prediction_.append(prediction.detach().cpu())"
   ],
   "id": "5ce0f0c3002f5145"
  },
  {
   "metadata": {},
   "cell_type": "code",
   "outputs": [],
   "execution_count": null,
   "source": [
    "        # Tahmin ve gerçek değerleri birleştir\n",
    "        prediction_ = tr.cat(prediction_, 0)\n",
    "        real_ = tr.cat(real_, 0)\n",
    "\n",
    "        # Doğruluk ve macro F1 skoru hesapla\n",
    "        prediction_ = tr.argmax(prediction_, -1)\n",
    "        accu = self.accu_(prediction_, real_)\n",
    "        maf1 = self.maf1(predicted=prediction_, real=real_)\n",
    "        \n",
    "        # Hesaplanan skorları sakla\n",
    "        accus.append(accu)\n",
    "        mafs.append(maf1)"
   ],
   "id": "1e92b613f2486262"
  },
  {
   "metadata": {},
   "cell_type": "code",
   "outputs": [],
   "execution_count": null,
   "source": [
    "import numpy as np\n",
    "import tqdm\n",
    "import torch as tr\n",
    "\n",
    "def pertubate(self):\n",
    "    # Başlangıç ayarları\n",
    "    accus, mafs = list(), list()  # Her epsilon için doğruluk ve macro F1 skorlarını saklayacak listeler\n",
    "    epsilon_values = np.linspace(0, 0.1, 15)  # Epsilon değerleri (0'dan 0.1'e kadar 15 adımda)\n",
    "\n",
    "    # Epsilon değerleri üzerinde döngü başlat\n",
    "    for epsilon in tqdm.tqdm(epsilon_values):\n",
    "        prediction_ = []\n",
    "        real_ = []\n",
    "\n",
    "        # Test veri kümesi üzerinde döngü\n",
    "        for data, label in self.test:\n",
    "            # Giriş verilerini GPU'ya aktar (mevcutsa) ve label verisini sakla\n",
    "            data = data.cuda() if tr.cuda.is_available() else data\n",
    "            label = label.cuda() if tr.cuda.is_available() else label\n",
    "            real_.append(label)\n",
    "\n",
    "            if epsilon != 0:\n",
    "                data.requires_grad = True  # Gradyan hesaplamak için giriş verisini aktif hale getir\n",
    "                \n",
    "                # Tahmin yap ve kaybı hesapla\n",
    "                prediction = self.net(data)\n",
    "                loss = self.loss_function(prediction, label)\n",
    "                loss.backward()  # Geriye doğru yayılım ile gradyanı hesapla\n",
    "\n",
    "                # Sonsuz norm için pertürbasyon hesapla\n",
    "                perturbation = epsilon * data.grad.data.sign()\n",
    "                \n",
    "                # Veriyi pertürbasyon ile boz\n",
    "                x_adv = tr.clamp(data + perturbation, -1, 1)\n",
    "            else:\n",
    "                x_adv = data  # Epsilon sıfırsa, orijinal veriyi kullan\n",
    "\n",
    "            # Pertürbasyon uygulanmış veri ile tahmin yap\n",
    "            prediction = self.net(x_adv)\n",
    "            prediction_.append(prediction.detach().cpu())\n",
    "\n",
    "        # Tahmin ve gerçek değerleri birleştir\n",
    "        prediction_ = tr.cat(prediction_, 0)\n",
    "        real_ = tr.cat(real_, 0)\n",
    "\n",
    "        # Doğruluk ve macro F1 skoru hesapla\n",
    "        prediction_ = tr.argmax(prediction_, -1)\n",
    "        accu = self.accu_(prediction_, real_)\n",
    "        maf1 = self.maf1(predicted=prediction_, real=real_)\n",
    "        \n",
    "        # Hesaplanan skorları sakla\n",
    "        accus.append(accu)\n",
    "        mafs.append(maf1)\n",
    "\n",
    "    # Sonuçları göster\n",
    "    print(\"Doğruluk Skorları:\", accus)\n",
    "    print(\"Macro F1 Skorları:\", mafs)"
   ],
   "id": "edbf8d5f9a96af02"
  },
  {
   "metadata": {},
   "cell_type": "code",
   "outputs": [],
   "execution_count": null,
   "source": "",
   "id": "329f97886a9eaee0"
  },
  {
   "metadata": {},
   "cell_type": "code",
   "outputs": [],
   "execution_count": null,
   "source": "",
   "id": "888114fc536d8b9e"
  },
  {
   "metadata": {},
   "cell_type": "code",
   "outputs": [],
   "execution_count": null,
   "source": "",
   "id": "ee02b58777a989de"
  },
  {
   "metadata": {},
   "cell_type": "code",
   "outputs": [],
   "execution_count": null,
   "source": "",
   "id": "b3f366e6207f9cf7"
  },
  {
   "metadata": {},
   "cell_type": "code",
   "outputs": [],
   "execution_count": null,
   "source": "",
   "id": "92a17bcd9190fe3b"
  },
  {
   "metadata": {},
   "cell_type": "code",
   "outputs": [],
   "execution_count": null,
   "source": "",
   "id": "b01474802d7ac823"
  }
 ],
 "metadata": {
  "kernelspec": {
   "display_name": "Python 3",
   "language": "python",
   "name": "python3"
  },
  "language_info": {
   "codemirror_mode": {
    "name": "ipython",
    "version": 2
   },
   "file_extension": ".py",
   "mimetype": "text/x-python",
   "name": "python",
   "nbconvert_exporter": "python",
   "pygments_lexer": "ipython2",
   "version": "2.7.6"
  }
 },
 "nbformat": 4,
 "nbformat_minor": 5
}
